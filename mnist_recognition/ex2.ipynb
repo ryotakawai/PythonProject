{
 "cells": [
  {
   "cell_type": "code",
   "execution_count": 60,
   "metadata": {},
   "outputs": [],
   "source": [
    "# 5.2 MNISTデータセットの特徴まで"
   ]
  },
  {
   "cell_type": "code",
   "execution_count": 61,
   "metadata": {},
   "outputs": [],
   "source": [
    "import tensorflow as tf\n",
    "import numpy as np\n",
    "import matplotlib.pyplot as plt\n",
    "import shutil\n",
    "from tensorflow.examples.tutorials.mnist import input_data\n",
    "from pathlib import Path\n"
   ]
  },
  {
   "cell_type": "code",
   "execution_count": 62,
   "metadata": {},
   "outputs": [],
   "source": [
    "# カレントスレッドにデフォルトのグラフが残存していることがあるので、リセットする\n",
    "tf.reset_default_graph()"
   ]
  },
  {
   "cell_type": "code",
   "execution_count": 63,
   "metadata": {},
   "outputs": [
    {
     "name": "stderr",
     "output_type": "stream",
     "text": [
      "C:\\Users\\210450279\\Anaconda3\\envs\\rebases\\lib\\site-packages\\tensorflow_core\\python\\client\\session.py:1750: UserWarning: An interactive session is already active. This can cause out-of-memory errors in some cases. You must explicitly call `InteractiveSession.close()` to release resources held by the other session(s).\n",
      "  warnings.warn('An interactive session is already active. This can '\n"
     ]
    }
   ],
   "source": [
    "sess = tf.InteractiveSession()"
   ]
  },
  {
   "cell_type": "code",
   "execution_count": 64,
   "metadata": {},
   "outputs": [],
   "source": [
    "# 再現性の確保のために乱数シードを固定(数値は何でもよい)\n",
    "tf.set_random_seed(12345)"
   ]
  },
  {
   "cell_type": "code",
   "execution_count": 65,
   "metadata": {},
   "outputs": [
    {
     "name": "stdout",
     "output_type": "stream",
     "text": [
      "Extracting MNIST_data/train-images-idx3-ubyte.gz\n",
      "Extracting MNIST_data/train-labels-idx1-ubyte.gz\n",
      "Extracting MNIST_data/t10k-images-idx3-ubyte.gz\n",
      "Extracting MNIST_data/t10k-labels-idx1-ubyte.gz\n"
     ]
    }
   ],
   "source": [
    "# 入力データ\n",
    "# MNISTのone-hot表現での読み込み\n",
    "# validation_sizeを指定することで、トレーニングセット60,000枚から5,000枚をバリデーションセットに割り当てることができる。\n",
    "mnist = input_data.read_data_sets(\"MNIST_data/\", one_hot=True, validation_size=10000)"
   ]
  },
  {
   "cell_type": "code",
   "execution_count": 66,
   "metadata": {},
   "outputs": [],
   "source": [
    "# 入力画像\n",
    "# プレースホルダー型で・・・\n",
    "x = tf.placeholder(tf.float32, name='x', shape=[None, 784])"
   ]
  },
  {
   "cell_type": "code",
   "execution_count": 67,
   "metadata": {},
   "outputs": [],
   "source": [
    "# サイズ変更\n",
    "x_1 = tf.reshape(x, [-1, 28, 28, 1])"
   ]
  },
  {
   "cell_type": "code",
   "execution_count": 68,
   "metadata": {},
   "outputs": [],
   "source": [
    "# ランダムカーネル\n",
    "k_0 = tf.Variable(tf.truncated_normal([4, 4, 1, 10], mean=0.0, stddev=0.1))\n",
    "\n",
    "# 畳み込み\n",
    "x_2 = tf.nn.conv2d(x_1, k_0, strides=[1, 3, 3, 1], padding='VALID')"
   ]
  },
  {
   "cell_type": "code",
   "execution_count": 69,
   "metadata": {},
   "outputs": [],
   "source": [
    "# 活性化関数\n",
    "x_3 = tf.nn.relu(x_2)"
   ]
  },
  {
   "cell_type": "code",
   "execution_count": 70,
   "metadata": {},
   "outputs": [],
   "source": [
    "# プーリング\n",
    "x_4 = tf.nn.max_pool(x_3, ksize=[1, 3, 3, 1], strides=[1, 2, 2, 1], padding='VALID')"
   ]
  },
  {
   "cell_type": "code",
   "execution_count": 71,
   "metadata": {},
   "outputs": [],
   "source": [
    "# サイズ変更\n",
    "x_5 = tf.reshape(x_4, [-1, 160])"
   ]
  },
  {
   "cell_type": "code",
   "execution_count": 72,
   "metadata": {},
   "outputs": [],
   "source": [
    "# ドロップアウト付きの全結合\n",
    "# tf.nn.dropout()の引数のkeep_propにノードを残す割合を指定する\n",
    "def matmul_plus_bias_with_dropout(x, w, b, p):\n",
    "    return tf.matmul(tf.nn.dropout(x, keep_prob=p), w) + b"
   ]
  },
  {
   "cell_type": "code",
   "execution_count": 73,
   "metadata": {},
   "outputs": [],
   "source": [
    "# そのまま出力すると、データフローグラフのノードがそのままバラバラに表示されてしまい、見づらい。\n",
    "# tf.name_scope() : 名前スコープを定義し、表示単位を引数の名前でまとめることができる。\n",
    "with tf.name_scope('prediction_1'):\n",
    "    # 重みとバイアス\n",
    "    w_1 = tf.Variable(tf.zeros([160, 40]))\n",
    "    b_1 = tf.Variable([0.1] * 40)\n",
    "\n",
    "    # ドロップアウト率\n",
    "    p_1 = tf.placeholder(1.0, name='p_1')\n",
    "\n",
    "    # 全結合\n",
    "    # x_6 = tf.matmul(x_5, w_1) + b_1\n",
    "    x_6 = matmul_plus_bias_with_dropout(x_5, w_1, b_1, p_1)"
   ]
  },
  {
   "cell_type": "code",
   "execution_count": 74,
   "metadata": {},
   "outputs": [],
   "source": [
    "# 活性化関数\n",
    "x_7 = tf.nn.relu(x_6)"
   ]
  },
  {
   "cell_type": "code",
   "execution_count": 75,
   "metadata": {},
   "outputs": [],
   "source": [
    "# そのまま出力すると、データフローグラフのノードがそのままバラバラに表示されてしまい、見づらい。\n",
    "# tf.name_scope() : 名前スコープを定義し、表示単位を引数の名前でまとめることができる。\n",
    "with tf.name_scope('prediction_2'):\n",
    "    # 重みとバイアス\n",
    "    w_2 = tf.Variable(tf.zeros([40, 10]))\n",
    "    b_2 = tf.Variable([0.1] * 10)\n",
    "\n",
    "    # ドロップアウト率\n",
    "    p_2 = tf.placeholder(1.0, name='p_2')\n",
    "\n",
    "    # 全結合\n",
    "    # x_8 = tf.matmul(x_7, w_2) + b_2\n",
    "    x_8 = matmul_plus_bias_with_dropout(x_7, w_2, b_2, p_2)"
   ]
  },
  {
   "cell_type": "code",
   "execution_count": 76,
   "metadata": {},
   "outputs": [],
   "source": [
    "# 確率化\n",
    "y = tf.nn.softmax(x_8, name=\"y\")"
   ]
  },
  {
   "cell_type": "code",
   "execution_count": 77,
   "metadata": {},
   "outputs": [],
   "source": [
    "# 損失関数の最小化\n",
    "\n",
    "# 正解ラベル\n",
    "labels = tf.placeholder(tf.float32, name='labels', shape=[None, 10])\n",
    "\n",
    "# 損失関数(交差エントロピー誤差)\n",
    "# tf.reduce_sum() : 与えたリストに入っている数値の合計を求めるメソッド\n",
    "# loss = -tf.reduce_sum(labels * tf.log(y))\n",
    "loss = -tf.reduce_sum(labels * tf.log(y + 1e-9)) / tf.cast(tf.shape(y)[0], tf.float32)\n",
    "\n",
    "# 最適化処理(Adam)\n",
    "optimizer = tf.train.AdamOptimizer().minimize(loss)"
   ]
  },
  {
   "cell_type": "code",
   "execution_count": 78,
   "metadata": {},
   "outputs": [],
   "source": [
    "# 精度検証\n",
    "\n",
    "# tf.equal(x, y) : xとyが等しければTrue、等しくなければFalseを返す\n",
    "prediction_match = tf.equal(tf.argmax(y, axis=1), tf.argmax(labels, axis=1))\n",
    "\n",
    "# tf.reduce_mean() : 与えたリストに入っている数値の平均値を求めるメソッド\n",
    "# tf.cast() : 型を変換するメソッド　以下では第1引数がTrueなら、\n",
    "# それを第2引数のfloat型に変換する\n",
    "accuracy = tf.reduce_mean(tf.cast(prediction_match, tf.float32), name = \"accuracy\")"
   ]
  },
  {
   "cell_type": "code",
   "execution_count": 79,
   "metadata": {},
   "outputs": [],
   "source": [
    "# 損失関数の出力をトレース対象とする\n",
    "# tf.summary.scalar() :  損失関数の出力すなわちスカラー値を可視化する\n",
    "tf.summary.scalar('loss_1', loss)\n",
    "\n",
    "# # 精度の出力をトレース対象とする\n",
    "# # tf.summary.scalar() :  精度の出力すなわちスカラー値を可視化する\n",
    "tf.summary.scalar('accuracy_1', accuracy)\n",
    "\n",
    "# 複数のログ('loss_1'と'accuracy_1')をmergedにまとめる\n",
    "# tf.summary.merge_all() : 複数のスカラー値を1つの変数にマージする\n",
    "# tf.summary.merge() : すべての変数ではなく明示的に変数をまとめるときに使う\n",
    "merged = tf.summary.merge_all()"
   ]
  },
  {
   "cell_type": "code",
   "execution_count": 80,
   "metadata": {},
   "outputs": [],
   "source": [
    "# パラメータ\n",
    "\n",
    "# バッチサイズ\n",
    "BATCH_SIZE = 32  \n",
    " \n",
    "# 学習回数\n",
    "NUM_TRAIN = 10_000  # 10_000 は 10,000 と同義\n",
    "\n",
    "# 学習中の出力精度\n",
    "OUTPUT_BY = 500\n",
    "\n",
    "# ドロップアウト率\n",
    "DROPOUT_PROB_1 = 0.2\n",
    "DROPOUT_PROB_2 = 0.5"
   ]
  },
  {
   "cell_type": "code",
   "execution_count": 81,
   "metadata": {},
   "outputs": [],
   "source": [
    "# 以前のログが残っていれば削除する（通常は残すようにしてください）\n",
    "logdir = Path('logs/log1')\n",
    "if logdir.exists():\n",
    "    shutil.rmtree(str(logdir))"
   ]
  },
  {
   "cell_type": "code",
   "execution_count": 85,
   "metadata": {},
   "outputs": [
    {
     "name": "stdout",
     "output_type": "stream",
     "text": [
      "step 0, train_loss 2.30, val_loss 2.30, train_acc 0.16, val_acc 0.16\n",
      "step 500, train_loss 1.08, val_loss 1.02, train_acc 0.72, val_acc 0.75\n",
      "step 1000, train_loss 0.91, val_loss 0.84, train_acc 0.72, val_acc 0.81\n",
      "step 1500, train_loss 0.53, val_loss 0.52, train_acc 0.91, val_acc 0.91\n",
      "step 2000, train_loss 0.65, val_loss 0.49, train_acc 0.84, val_acc 0.94\n",
      "step 2500, train_loss 0.53, val_loss 0.48, train_acc 0.84, val_acc 0.91\n",
      "step 3000, train_loss 0.77, val_loss 0.71, train_acc 0.78, val_acc 0.81\n",
      "step 3500, train_loss 0.57, val_loss 0.52, train_acc 0.81, val_acc 0.91\n",
      "step 4000, train_loss 0.55, val_loss 0.48, train_acc 0.84, val_acc 0.84\n",
      "step 4500, train_loss 0.50, val_loss 0.40, train_acc 0.84, val_acc 0.94\n",
      "step 5000, train_loss 0.42, val_loss 0.35, train_acc 0.91, val_acc 0.97\n",
      "step 5500, train_loss 0.47, val_loss 0.34, train_acc 0.91, val_acc 0.97\n",
      "step 6000, train_loss 0.28, val_loss 0.27, train_acc 0.97, val_acc 0.94\n",
      "step 6500, train_loss 0.36, val_loss 0.68, train_acc 0.88, val_acc 0.81\n",
      "step 7000, train_loss 0.67, val_loss 0.25, train_acc 0.81, val_acc 1.00\n",
      "step 7500, train_loss 0.29, val_loss 0.39, train_acc 1.00, val_acc 0.91\n",
      "step 8000, train_loss 0.28, val_loss 0.48, train_acc 0.94, val_acc 0.88\n",
      "step 8500, train_loss 0.55, val_loss 0.37, train_acc 0.84, val_acc 0.91\n",
      "step 9000, train_loss 0.33, val_loss 0.51, train_acc 0.97, val_acc 0.91\n",
      "step 9500, train_loss 0.25, val_loss 0.21, train_acc 0.97, val_acc 0.94\n"
     ]
    }
   ],
   "source": [
    "# logsディレクトリに出力するライターを作成して利用\n",
    "# tf.summary.FileWriter : ログを出力するためのクラス\n",
    "# インスタンス作成後に add_graph()を用いると、データフローグラフを可視化できる。\n",
    "# 今回は省略しているが、各テンソルに名前を付けておけば、その名前が可視化の際に利用される。\n",
    "with tf.summary.FileWriter('logs/log1/train', sess.graph) as writer:\n",
    "    # 学習の実行\n",
    "    sess.run(tf.global_variables_initializer())\n",
    "    dropout_prob = {p_1 : DROPOUT_PROB_1, p_2 : DROPOUT_PROB_2}\n",
    "\n",
    "    # TensorFlowでは、モデルのファイル入出力は tf.train.Saver() を使う\n",
    "    saver = tf.train.Saver()\n",
    "\n",
    "    for i in range(NUM_TRAIN):\n",
    "        # MNISTの訓練データから複数の画像データとラベルデータを取得(ミニバッチ学習)\n",
    "        batch_train = mnist.train.next_batch(BATCH_SIZE)\n",
    "        inout_train = {x : batch_train[0], labels : batch_train[1]}\n",
    "        # MNISTのバリデーションデータから複数の画像データとラベルデータを取得(ミニバッチ学習)\n",
    "        batch_val = mnist.validation.next_batch(BATCH_SIZE)\n",
    "        inout_val = {x : batch_val[0], labels : batch_val[1]}\n",
    "        \n",
    "        summary, mae, _ = sess.run([merged, loss, optimizer],\\\n",
    "            feed_dict={x:batch_train[0], labels:batch_train[1], p_1 : 1.0, p_2 : 1.0})\n",
    "            \n",
    "\n",
    "        if i % OUTPUT_BY == 0:\n",
    "            train_accuracy = accuracy.eval(feed_dict = {**inout_train, p_1 : 1.0, p_2 : 1.0})\n",
    "            val_accuracy = accuracy.eval(feed_dict = {**inout_val, p_1 : 1.0, p_2 : 1.0})\n",
    "            train_loss = loss.eval(feed_dict = {**inout_train, p_1 : 1.0, p_2 : 1.0})\n",
    "            val_loss = loss.eval(feed_dict = {**inout_val, p_1 : 1.0, p_2 : 1.0})\n",
    "            writer.add_summary(summary, global_step=i)\n",
    "            print('step {:d}, train_loss {:.2f}, val_loss {:.2f}, train_acc {:.2f}, val_acc {:.2f}'.format(\n",
    "                i, train_loss, val_loss, train_accuracy, val_accuracy))\n",
    "            writer.add_summary(summary, global_step=i)\n",
    "            saver.save(sess, 'model1/my-model')\n",
    "        optimizer.run(feed_dict={**inout_train, **dropout_prob})\n",
    "    \n",
    "    \n",
    "    \n",
    "    # ログの出力\n",
    "    # add_summary() : スカラー値のログを出力するためのメソッド\n",
    "    writer.add_summary(summary, global_step=NUM_TRAIN)\n",
    "\n",
    "    # 最終結果の保存\n",
    "    saver.save(sess, 'model1/my-model')\n",
    "\n",
    "# ----------------------------------------------------------------------------------\n",
    "# modelsの中に .data-00000-of-00001/.index/.meta という3つの拡張子が\n",
    "# 付いたファイル群とcheckpointファイルが作成される\n",
    "# 「過程の保存」では、ファイル名には「<モデル名>-<ステップ数>.<拡張子>」という名前で保存。\n",
    "# 「最終結果の保存」では、ファイル名には「<モデル名>.<拡張子>」という名前で保存。\n",
    "\n",
    "# .metaファイルは、メタグラフというデータフローグラフ構造などの情報を保存したもの。\n",
    "# -----------------------------------------------------------------------------------"
   ]
  },
  {
   "cell_type": "code",
   "execution_count": 86,
   "metadata": {},
   "outputs": [
    {
     "name": "stdout",
     "output_type": "stream",
     "text": [
      "test_accuracy0.92\n"
     ]
    }
   ],
   "source": [
    "# テストデータによる精度検証\n",
    "test_accuracy = accuracy.eval(feed_dict={x : mnist.test.images,\\\n",
    "    labels : mnist.test.labels, p_1 : 1.0, p_2 :1.0})\n",
    "print('test_accuracy{:.2f}'.format(test_accuracy))"
   ]
  },
  {
   "cell_type": "code",
   "execution_count": 87,
   "metadata": {},
   "outputs": [
    {
     "name": "stdout",
     "output_type": "stream",
     "text": [
      "test accuracy 0.92\n"
     ]
    }
   ],
   "source": [
    "# 上記はテンソルを用いて正解率を計算しているが、次のようにNumpy形式で正解率を計算することもできる。\n",
    "\n",
    "# test_y は予測結果。\n",
    "test_y = y.eval(feed_dict={x: mnist.test.images, p_1: 1.0, p_2: 1.0}).argmax(axis=1)\n",
    "\n",
    "# test_labels は正解ラベル。\n",
    "test_labels = mnist.test.labels.argmax(axis=1)\n",
    "\n",
    "# 予測結果と正解ラベルから、正解率を計算する。\n",
    "test_accuracy = np.sum(test_y == test_labels) / float(test_y.shape[0])\n",
    "print('test accuracy {:.2f}'.format(test_accuracy))"
   ]
  },
  {
   "cell_type": "code",
   "execution_count": 88,
   "metadata": {},
   "outputs": [
    {
     "name": "stdout",
     "output_type": "stream",
     "text": [
      "test confusion matrix:\n",
      "[[ 937    4    4    3    0    0   22    2    6    2]\n",
      " [   4 1094    9    2    3    0   10    1   10    2]\n",
      " [  20    0  949   19    7    0    4    7   25    1]\n",
      " [   1    0    9  961    0   12    0    3   14   10]\n",
      " [   0    1    2    0  926    0   14    3    5   31]\n",
      " [   4    0    1   36    0  814    6    0   25    6]\n",
      " [  20    3    5    0    6   21  888    0   15    0]\n",
      " [   1    3   31   13    6    0    0  899   13   62]\n",
      " [  32    5   10   30    7   35   17   13  801   24]\n",
      " [   6    7    1   16   17   16    2   13   23  908]]\n"
     ]
    }
   ],
   "source": [
    "# ラベル名の一覧を取得\n",
    "label_names = list(range(mnist.test.labels.shape[1]))\n",
    "\n",
    "# 混同行列(confusion_matrix())を出力\n",
    "import sklearn\n",
    "\n",
    "test_confusion_matrix = sklearn.metrics.confusion_matrix(test_labels, test_y, labels=label_names)\n",
    "print('test confusion matrix:\\n{}'.format(str(test_confusion_matrix)))"
   ]
  },
  {
   "cell_type": "code",
   "execution_count": 89,
   "metadata": {},
   "outputs": [
    {
     "name": "stdout",
     "output_type": "stream",
     "text": [
      "accuracy:\n",
      "0.9177\n",
      "precision:\n",
      "[0.91414634 0.97940913 0.9294809  0.88981481 0.9526749  0.9064588\n",
      " 0.92211838 0.95536663 0.85485592 0.86806883]\n",
      "recall:\n",
      "[0.95612245 0.96387665 0.91957364 0.95148515 0.94297352 0.91255605\n",
      " 0.92693111 0.87451362 0.82238193 0.89990089]\n",
      "f1 score:\n",
      "[0.93466334 0.97158082 0.92450073 0.91961722 0.94779939 0.90949721\n",
      " 0.92451848 0.91315389 0.83830455 0.8836983 ]\n",
      "f1 score:\n",
      "[0.93466334 0.97158082 0.92450073 0.91961722 0.94779939 0.90949721\n",
      " 0.92451848 0.91315389 0.83830455 0.8836983 ]\n"
     ]
    }
   ],
   "source": [
    "# 正解率(accuracy_score())を出力\n",
    "test_test_accuracy = sklearn.metrics.accuracy_score(test_labels, test_y)\n",
    "print('accuracy:\\n{}'.format(str(test_test_accuracy)))\n",
    "\n",
    "# 適合率(precision_score())を出力\n",
    "test_precision = sklearn.metrics.precision_score(test_labels, test_y, average=None)\n",
    "print('precision:\\n{}'.format(str(test_precision)))\n",
    "\n",
    "# 再現率(recall_score())を出力\n",
    "test_recall = sklearn.metrics.recall_score(test_labels, test_y, average=None)\n",
    "print('recall:\\n{}'.format(str(test_recall)))\n",
    "\n",
    "# F値(f1_score())を出力\n",
    "# (1)メソッドからF値を計算\n",
    "test_f1_1 = sklearn.metrics.f1_score(test_labels, test_y, average=None)\n",
    "print('f1 score:\\n{}'.format(str(test_f1_1)))\n",
    "# (2)適合率と再現率を使って、数式でF値を計算\n",
    "test_f1_2 = 2 * ((test_precision * test_recall)/(test_precision + test_recall))\n",
    "print('f1 score:\\n{}'.format(str(test_f1_2)))"
   ]
  },
  {
   "cell_type": "code",
   "execution_count": 90,
   "metadata": {},
   "outputs": [
    {
     "data": {
      "text/plain": [
       "Text(0, 0.5, 'counts')"
      ]
     },
     "execution_count": 90,
     "metadata": {},
     "output_type": "execute_result"
    },
    {
     "data": {
      "image/png": "[encoded data removed]",
      "text/plain": [
       "<Figure size 432x288 with 1 Axes>"
      ]
     },
     "metadata": {
      "needs_background": "light"
     },
     "output_type": "display_data"
    }
   ],
   "source": [
    "# MNISTデータセットについて、トレーニング用画像・テスト用画像それぞれの画素値を取得し、ヒストグラムを描画\n",
    "# mnist.train.images[0]は1枚目の画像のこと\n",
    "(train_hist, train_bins, _) = plt.hist(mnist.train.images[0], label=\"train\", align='left', rwidth=0.4)\n",
    "(test_hist, test_bins, _) = plt.hist(mnist.test.images[0], label=\"test\", align=\"mid\", rwidth=0.4)\n",
    "(val_hist, val_bins, _) = plt.hist(mnist.validation.images[0], label=\"val\", align=\"right\", rwidth=0.4)\n",
    "\n",
    "plt.legend(loc=\"upper right\")\n",
    "plt.xlabel(\"pixel value\")\n",
    "plt.ylabel(\"counts\")"
   ]
  }
 ],
 "metadata": {
  "interpreter": {
   "hash": "a1c8c699d14e3903dc5150bb4eeb93a885371f7e5db0b28d0ec5cc4eff72bd11"
  },
  "kernelspec": {
   "display_name": "Python 3.6.13 64-bit ('introtensorflow': conda)",
   "language": "python",
   "name": "python3"
  },
  "language_info": {
   "codemirror_mode": {
    "name": "ipython",
    "version": 3
   },
   "file_extension": ".py",
   "mimetype": "text/x-python",
   "name": "python",
   "nbconvert_exporter": "python",
   "pygments_lexer": "ipython3",
   "version": "3.6.10"
  },
  "orig_nbformat": 4
 },
 "nbformat": 4,
 "nbformat_minor": 2
}
