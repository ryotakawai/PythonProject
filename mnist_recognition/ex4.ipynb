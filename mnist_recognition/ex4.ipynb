{
 "cells": [
  {
   "cell_type": "code",
   "execution_count": 1,
   "metadata": {},
   "outputs": [],
   "source": [
    "# 6.2 グリッドサーチ"
   ]
  },
  {
   "cell_type": "code",
   "execution_count": 2,
   "metadata": {},
   "outputs": [
    {
     "name": "stderr",
     "output_type": "stream",
     "text": [
      "C:\\Users\\210450279\\Anaconda3\\envs\\rebases\\lib\\site-packages\\dask\\dataframe\\utils.py:15: FutureWarning: pandas.util.testing is deprecated. Use the functions in the public API at pandas.testing instead.\n",
      "  import pandas.util.testing as tm\n"
     ]
    }
   ],
   "source": [
    "from sklearn.model_selection import ParameterGrid\n",
    "import tensorflow as tf\n",
    "from tensorflow.examples.tutorials.mnist import input_data"
   ]
  },
  {
   "cell_type": "code",
   "execution_count": 3,
   "metadata": {},
   "outputs": [],
   "source": [
    "tf.reset_default_graph()\n",
    "sess = tf.InteractiveSession()"
   ]
  },
  {
   "cell_type": "code",
   "execution_count": 4,
   "metadata": {},
   "outputs": [],
   "source": [
    "# 再現性の確保のために乱数シードを固定（数値は何でもよい）\n",
    "tf.set_random_seed(12345)"
   ]
  },
  {
   "cell_type": "code",
   "execution_count": 5,
   "metadata": {},
   "outputs": [
    {
     "name": "stdout",
     "output_type": "stream",
     "text": [
      "WARNING:tensorflow:From <ipython-input-5-da2446cef934>:3: read_data_sets (from tensorflow.contrib.learn.python.learn.datasets.mnist) is deprecated and will be removed in a future version.\n",
      "Instructions for updating:\n",
      "Please use alternatives such as official/mnist/dataset.py from tensorflow/models.\n",
      "WARNING:tensorflow:From C:\\Users\\210450279\\Anaconda3\\envs\\rebases\\lib\\site-packages\\tensorflow_core\\contrib\\learn\\python\\learn\\datasets\\mnist.py:260: maybe_download (from tensorflow.contrib.learn.python.learn.datasets.base) is deprecated and will be removed in a future version.\n",
      "Instructions for updating:\n",
      "Please write your own downloading logic.\n",
      "WARNING:tensorflow:From C:\\Users\\210450279\\Anaconda3\\envs\\rebases\\lib\\site-packages\\tensorflow_core\\contrib\\learn\\python\\learn\\datasets\\mnist.py:262: extract_images (from tensorflow.contrib.learn.python.learn.datasets.mnist) is deprecated and will be removed in a future version.\n",
      "Instructions for updating:\n",
      "Please use tf.data to implement this functionality.\n",
      "Extracting MNIST_data/train-images-idx3-ubyte.gz\n",
      "WARNING:tensorflow:From C:\\Users\\210450279\\Anaconda3\\envs\\rebases\\lib\\site-packages\\tensorflow_core\\contrib\\learn\\python\\learn\\datasets\\mnist.py:267: extract_labels (from tensorflow.contrib.learn.python.learn.datasets.mnist) is deprecated and will be removed in a future version.\n",
      "Instructions for updating:\n",
      "Please use tf.data to implement this functionality.\n",
      "Extracting MNIST_data/train-labels-idx1-ubyte.gz\n",
      "WARNING:tensorflow:From C:\\Users\\210450279\\Anaconda3\\envs\\rebases\\lib\\site-packages\\tensorflow_core\\contrib\\learn\\python\\learn\\datasets\\mnist.py:110: dense_to_one_hot (from tensorflow.contrib.learn.python.learn.datasets.mnist) is deprecated and will be removed in a future version.\n",
      "Instructions for updating:\n",
      "Please use tf.one_hot on tensors.\n",
      "Extracting MNIST_data/t10k-images-idx3-ubyte.gz\n",
      "Extracting MNIST_data/t10k-labels-idx1-ubyte.gz\n",
      "WARNING:tensorflow:From C:\\Users\\210450279\\Anaconda3\\envs\\rebases\\lib\\site-packages\\tensorflow_core\\contrib\\learn\\python\\learn\\datasets\\mnist.py:290: DataSet.__init__ (from tensorflow.contrib.learn.python.learn.datasets.mnist) is deprecated and will be removed in a future version.\n",
      "Instructions for updating:\n",
      "Please use alternatives such as official/mnist/dataset.py from tensorflow/models.\n"
     ]
    }
   ],
   "source": [
    "# 入力データ\n",
    "# MNISTのワンホット表現での読み込み\n",
    "mnist = input_data.read_data_sets(\"MNIST_data/\", one_hot=True, validation_size=10000)"
   ]
  },
  {
   "cell_type": "code",
   "execution_count": 6,
   "metadata": {},
   "outputs": [],
   "source": [
    "# 0 入力画像\n",
    "x = tf.placeholder(tf.float32, name='x')"
   ]
  },
  {
   "cell_type": "code",
   "execution_count": 7,
   "metadata": {},
   "outputs": [],
   "source": [
    "# 1 サイズ変更\n",
    "x_1 = tf.reshape(x, [-1, 28, 28, 1])"
   ]
  },
  {
   "cell_type": "code",
   "execution_count": 8,
   "metadata": {},
   "outputs": [],
   "source": [
    "# 2 畳み込み\n",
    "# ランダムカーネル\n",
    "k_0 = tf.Variable(tf.truncated_normal([4, 4, 1, 10], mean=0.0, stddev=0.1))\n",
    "# 畳み込み\n",
    "x_2 = tf.nn.conv2d(x_1, k_0, strides=[1, 3, 3, 1], padding='VALID')"
   ]
  },
  {
   "cell_type": "code",
   "execution_count": 9,
   "metadata": {},
   "outputs": [],
   "source": [
    "# 3 活性化関数\n",
    "x_3 = tf.nn.relu(x_2)"
   ]
  },
  {
   "cell_type": "code",
   "execution_count": 10,
   "metadata": {},
   "outputs": [],
   "source": [
    "# 4 プーリング\n",
    "x_4 = tf.nn.max_pool(x_3, ksize=[1, 3, 3, 1], strides=[1, 2, 2, 1], padding='VALID')"
   ]
  },
  {
   "cell_type": "code",
   "execution_count": 11,
   "metadata": {},
   "outputs": [],
   "source": [
    "# 5 サイズ変更\n",
    "x_5 = tf.reshape(x_4, [-1, 160])"
   ]
  },
  {
   "cell_type": "code",
   "execution_count": 12,
   "metadata": {},
   "outputs": [],
   "source": [
    "#ドロップアウト付きの全結合\n",
    "def matmul_plus_bias_with_dropout(x, w, b, p):\n",
    "    return tf.matmul(tf.nn.dropout(x, keep_prob=p), w) + b"
   ]
  },
  {
   "cell_type": "code",
   "execution_count": 13,
   "metadata": {},
   "outputs": [
    {
     "name": "stdout",
     "output_type": "stream",
     "text": [
      "WARNING:tensorflow:From <ipython-input-12-2e743beeb3f2>:3: calling dropout (from tensorflow.python.ops.nn_ops) with keep_prob is deprecated and will be removed in a future version.\n",
      "Instructions for updating:\n",
      "Please use `rate` instead of `keep_prob`. Rate should be set to `rate = 1 - keep_prob`.\n"
     ]
    }
   ],
   "source": [
    "# 6 全結合\n",
    "# 重みとバイアス\n",
    "w_1 = tf.Variable(tf.zeros([160, 40]))\n",
    "b_1 = tf.Variable([0.1] * 40)\n",
    "#ドロップアウト率\n",
    "p_1 = tf.placeholder(tf.float32, name='p_1')\n",
    "# 全結合\n",
    "x_6 = matmul_plus_bias_with_dropout(x_5, w_1, b_1, p_1)"
   ]
  },
  {
   "cell_type": "code",
   "execution_count": 14,
   "metadata": {},
   "outputs": [],
   "source": [
    "# 7 活性化関数\n",
    "x_7 = tf.nn.relu(x_6)"
   ]
  },
  {
   "cell_type": "code",
   "execution_count": 15,
   "metadata": {},
   "outputs": [],
   "source": [
    "# 8 全結合\n",
    "# 重みとバイアス\n",
    "w_2 = tf.Variable(tf.zeros([40, 10]))\n",
    "b_2 = tf.Variable([0.1] * 10)\n",
    "#ドロップアウト率\n",
    "p_2 = tf.placeholder(tf.float32, name='p_2')\n",
    "# 全結合\n",
    "x_8 = matmul_plus_bias_with_dropout(x_7, w_2, b_2, p_2)"
   ]
  },
  {
   "cell_type": "code",
   "execution_count": 16,
   "metadata": {},
   "outputs": [],
   "source": [
    "# 9 確率化\n",
    "y = tf.nn.softmax(x_8, name='y')"
   ]
  },
  {
   "cell_type": "code",
   "execution_count": 17,
   "metadata": {},
   "outputs": [],
   "source": [
    "# 10 損失関数の最小化\n",
    "# 正解ラベル\n",
    "labels = tf.placeholder(tf.float32, name='labels')\n",
    "# 損失関数（交差エントロピー）と最適化処理（Adam）\n",
    "loss = -tf.reduce_sum(labels * tf.log(y + 1e-9)) / tf.cast(tf.shape(y)[0], tf.float32)\n",
    "optimizer = tf.train.AdamOptimizer().minimize(loss)"
   ]
  },
  {
   "cell_type": "code",
   "execution_count": 18,
   "metadata": {},
   "outputs": [],
   "source": [
    "# 11 精度検証 (Top-1 accuracy)\n",
    "prediction_match = tf.equal(tf.argmax(y, axis=1), tf.argmax(labels, axis=1))\n",
    "accuracy = tf.reduce_mean(tf.cast(prediction_match, tf.float32), name='accuracy')"
   ]
  },
  {
   "cell_type": "code",
   "execution_count": 19,
   "metadata": {},
   "outputs": [],
   "source": [
    "# パラメーター\n",
    "# バッチサイズ\n",
    "BATCH_SIZE = 32\n",
    "# 学習回数\n",
    "NUM_TRAIN = 10_000\n",
    "# 学習中の出力頻度\n",
    "OUTPUT_BY = 500\n",
    "#ドロップアウト率\n",
    "DROPOUT_PROB_1 = [0.2, 0.5, 0.8]\n",
    "DROPOUT_PROB_2 = [0.2, 0.5, 0.8]"
   ]
  },
  {
   "cell_type": "code",
   "execution_count": 20,
   "metadata": {},
   "outputs": [],
   "source": [
    "# -----------------------------------------------------------------------------------\n",
    "# ParameterGridは、パラメータの組を返す単純なイテレータである。\n",
    "# GridSearchCVは、scikit-learnが提供している機械学習モデルの最適化に使用する。\n",
    "# 自作のモデルを使うこともできるが、BaseEstimatorを継承したクラスを実装する必要がある。\n",
    "# -----------------------------------------------------------------------------------\n",
    "\n",
    "\n",
    "# 探索空間の設定\n",
    "search_space = {'DROPOUT_PROB_1': DROPOUT_PROB_1, 'DROPOUT_PROB_2': DROPOUT_PROB_2}\n",
    "# 最適値を初期化\n",
    "best_param = None\n",
    "best_val_accuracy = 0.0\n",
    "# グリッドサーチを実行\n",
    "param_grid = ParameterGrid(search_space)\n",
    "n_params = len(param_grid)"
   ]
  },
  {
   "cell_type": "code",
   "execution_count": 21,
   "metadata": {},
   "outputs": [
    {
     "name": "stdout",
     "output_type": "stream",
     "text": [
      "[1/9]\tparam: {'DROPOUT_PROB_1': 0.2, 'DROPOUT_PROB_2': 0.2}\n",
      "\tstep 10000, train_loss 0.99, val_loss 1.03, train_acc 0.78, val_acc 0.80\n",
      "[2/9]\tparam: {'DROPOUT_PROB_1': 0.2, 'DROPOUT_PROB_2': 0.5}\n",
      "\tstep 10000, train_loss 0.67, val_loss 0.69, train_acc 0.84, val_acc 0.86\n",
      "[3/9]\tparam: {'DROPOUT_PROB_1': 0.2, 'DROPOUT_PROB_2': 0.8}\n",
      "\tstep 10000, train_loss 0.52, val_loss 0.55, train_acc 0.94, val_acc 0.88\n",
      "[4/9]\tparam: {'DROPOUT_PROB_1': 0.5, 'DROPOUT_PROB_2': 0.2}\n",
      "\tstep 10000, train_loss 0.74, val_loss 0.63, train_acc 0.81, val_acc 0.88\n",
      "[5/9]\tparam: {'DROPOUT_PROB_1': 0.5, 'DROPOUT_PROB_2': 0.5}\n",
      "\tstep 10000, train_loss 0.35, val_loss 0.28, train_acc 0.94, val_acc 0.93\n",
      "[6/9]\tparam: {'DROPOUT_PROB_1': 0.5, 'DROPOUT_PROB_2': 0.8}\n",
      "\tstep 10000, train_loss 0.29, val_loss 0.23, train_acc 0.88, val_acc 0.94\n",
      "[7/9]\tparam: {'DROPOUT_PROB_1': 0.8, 'DROPOUT_PROB_2': 0.2}\n",
      "\tstep 10000, train_loss 0.53, val_loss 0.44, train_acc 0.91, val_acc 0.92\n",
      "[8/9]\tparam: {'DROPOUT_PROB_1': 0.8, 'DROPOUT_PROB_2': 0.5}\n",
      "\tstep 10000, train_loss 0.18, val_loss 0.19, train_acc 0.97, val_acc 0.94\n",
      "[9/9]\tparam: {'DROPOUT_PROB_1': 0.8, 'DROPOUT_PROB_2': 0.8}\n",
      "\tstep 10000, train_loss 0.25, val_loss 0.15, train_acc 0.91, val_acc 0.96\n"
     ]
    }
   ],
   "source": [
    "for t, param in enumerate(param_grid):\n",
    "    print('[{:d}/{:d}]\\tparam: {}'.format(t+1, n_params, str(param)))\n",
    "    # 学習の実行\n",
    "    sess.run(tf.global_variables_initializer())\n",
    "    dropout_prob = {p_1: param['DROPOUT_PROB_1'], p_2: param['DROPOUT_PROB_2']}\n",
    "    for i in range(NUM_TRAIN):\n",
    "        batch = mnist.train.next_batch(BATCH_SIZE)\n",
    "        inout = {x: batch[0], labels: batch[1]}\n",
    "        optimizer.run(feed_dict={**inout, **dropout_prob})\n",
    "\n",
    "    batch = mnist.train.next_batch(BATCH_SIZE)\n",
    "    inout = {x: batch[0], labels: batch[1]}\n",
    "    train_loss, train_accuracy = sess.run([loss, accuracy], feed_dict={**inout, p_1: 1.0, p_2: 1.0})\n",
    "    val_loss, val_accuracy = sess.run([loss, accuracy], feed_dict={\n",
    "        x: mnist.validation.images, labels: mnist.validation.labels, p_1: 1.0, p_2: 1.0})\n",
    "    print('\\tstep {:d}, train_loss {:.2f}, val_loss {:.2f}, train_acc {:.2f}, val_acc {:.2f}'.format(\n",
    "            NUM_TRAIN, train_loss, val_loss, train_accuracy, val_accuracy))\n",
    "\n",
    "    # バリデーションセットに対する精度が最も高いパラメータを記録する\n",
    "    if val_accuracy > best_val_accuracy:\n",
    "        best_val_accuracy = val_accuracy\n",
    "        best_param = param"
   ]
  },
  {
   "cell_type": "code",
   "execution_count": 22,
   "metadata": {},
   "outputs": [
    {
     "name": "stdout",
     "output_type": "stream",
     "text": [
      "best param: {'DROPOUT_PROB_1': 0.8, 'DROPOUT_PROB_2': 0.8}\n",
      "best val_acc: 0.96\n"
     ]
    }
   ],
   "source": [
    "print('best param: {}'.format(str(best_param)))\n",
    "print('best val_acc: {:.2f}'.format(val_accuracy))"
   ]
  }
 ],
 "metadata": {
  "interpreter": {
   "hash": "f5bb542c5f8ffcfc7fda68624d38253a8d24c155b1e912518077c095286d0bbc"
  },
  "kernelspec": {
   "display_name": "Python 3.6.10 ('rebases')",
   "language": "python",
   "name": "python3"
  },
  "language_info": {
   "codemirror_mode": {
    "name": "ipython",
    "version": 3
   },
   "file_extension": ".py",
   "mimetype": "text/x-python",
   "name": "python",
   "nbconvert_exporter": "python",
   "pygments_lexer": "ipython3",
   "version": "3.6.10"
  },
  "orig_nbformat": 4
 },
 "nbformat": 4,
 "nbformat_minor": 2
}
