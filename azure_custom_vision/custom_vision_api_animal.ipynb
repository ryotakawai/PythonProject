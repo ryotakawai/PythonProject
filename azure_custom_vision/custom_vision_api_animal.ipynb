{
 "cells": [
  {
   "cell_type": "code",
   "execution_count": 1,
   "metadata": {},
   "outputs": [],
   "source": [
    "import requests\n",
    "import json"
   ]
  },
  {
   "cell_type": "code",
   "execution_count": 9,
   "metadata": {},
   "outputs": [],
   "source": [
    "url=\"https://imageclassificationapi-prediction.cognitiveservices.azure.com/customvision/v3.0/Prediction/9574ed69-9d9a-4c3e-a932-2d9df0e58635/classify/iterations/Iteration1/image\"\n",
    "headers={'content-type':'application/octet-stream','Prediction-Key':'0fef981c788442468180b057124f79eb'}\n",
    "response =requests.post(url,data=open(\"animal/american_bulldog/american_bulldog_182.jpg\",\"rb\"),headers=headers)\n",
    "response.raise_for_status()"
   ]
  },
  {
   "cell_type": "code",
   "execution_count": 10,
   "metadata": {},
   "outputs": [
    {
     "name": "stdout",
     "output_type": "stream",
     "text": [
      "american_bulldog 0.9318077\n",
      "american_pit_bull_terrier 0.034062594\n",
      "beagle 0.01834221\n",
      "pomeranian 0.0046477267\n",
      "Bengal 0.0032140894\n",
      "basset_hound 0.0026883935\n",
      "Birman 0.0025261731\n",
      "Abyssinian 0.0010453071\n",
      "shiba_inu 0.0010444876\n",
      "Bombay 0.00062125514\n"
     ]
    }
   ],
   "source": [
    "analysis = response.json()\n",
    "\n",
    "for i in range(10):\n",
    "    name, pred = analysis[\"predictions\"][i][\"tagName\"], analysis[\"predictions\"][i][\"probability\"]\n",
    "    print(name, pred)"
   ]
  }
 ],
 "metadata": {
  "kernelspec": {
   "display_name": "Python 3.9.7 ('base')",
   "language": "python",
   "name": "python3"
  },
  "language_info": {
   "codemirror_mode": {
    "name": "ipython",
    "version": 3
   },
   "file_extension": ".py",
   "mimetype": "text/x-python",
   "name": "python",
   "nbconvert_exporter": "python",
   "pygments_lexer": "ipython3",
   "version": "3.9.7"
  },
  "orig_nbformat": 4,
  "vscode": {
   "interpreter": {
    "hash": "0199addb45cb5e6c8d89ab59d7682c0a2fb7fef7d33a61a64c1155a0cf6c44ad"
   }
  }
 },
 "nbformat": 4,
 "nbformat_minor": 2
}
