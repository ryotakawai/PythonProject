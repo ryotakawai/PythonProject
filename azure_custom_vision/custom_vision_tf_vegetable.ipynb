{
 "cells": [
  {
   "cell_type": "code",
   "execution_count": 5,
   "metadata": {},
   "outputs": [],
   "source": [
    "import tensorflow as tf\n",
    "import os\n",
    "from PIL import Image\n",
    "import numpy as np\n",
    "import cv2"
   ]
  },
  {
   "cell_type": "code",
   "execution_count": 6,
   "metadata": {},
   "outputs": [],
   "source": [
    "graph_def = tf.compat.v1.GraphDef()\n",
    "labels = []"
   ]
  },
  {
   "cell_type": "code",
   "execution_count": 9,
   "metadata": {},
   "outputs": [],
   "source": [
    "# model.pb ファイルはトレーニング済みのモデル\n",
    "filename = \"./model_export/vegetable_tf/model.pb\"\n",
    "\n",
    "# labels.txt ファイルは分類ラベル\n",
    "labels_filename = \"./model_export/vegetable_tf/labels.txt\""
   ]
  },
  {
   "cell_type": "code",
   "execution_count": 10,
   "metadata": {},
   "outputs": [],
   "source": [
    "# モデルをプロジェクトにロードする\n",
    "\n",
    "with tf.io.gfile.GFile(filename, 'rb') as f:\n",
    "    graph_def.ParseFromString(f.read())\n",
    "    tf.import_graph_def(graph_def, name='')\n",
    "\n",
    "with open(labels_filename, 'rt') as lf:\n",
    "    for l in lf:\n",
    "        labels.append(l.strip())"
   ]
  },
  {
   "cell_type": "code",
   "execution_count": 11,
   "metadata": {},
   "outputs": [],
   "source": [
    "def convert_to_opencv(image):\n",
    "    # RGB -> BGR conversion is performed as well.\n",
    "    image = image.convert('RGB')\n",
    "    r,g,b = np.array(image).T\n",
    "    opencv_image = np.array([b,g,r]).transpose()\n",
    "    return opencv_image\n",
    "\n",
    "def crop_center(img,cropx,cropy):\n",
    "    h, w = img.shape[:2]\n",
    "    startx = w//2-(cropx//2)\n",
    "    starty = h//2-(cropy//2)\n",
    "    return img[starty:starty+cropy, startx:startx+cropx]\n",
    "\n",
    "def resize_down_to_1600_max_dim(image):\n",
    "    h, w = image.shape[:2]\n",
    "    if (h < 1600 and w < 1600):\n",
    "        return image\n",
    "\n",
    "    new_size = (1600 * w // h, 1600) if (h > w) else (1600, 1600 * h // w)\n",
    "    return cv2.resize(image, new_size, interpolation = cv2.INTER_LINEAR)\n",
    "\n",
    "def resize_to_256_square(image):\n",
    "    h, w = image.shape[:2]\n",
    "    return cv2.resize(image, (256, 256), interpolation = cv2.INTER_LINEAR)\n",
    "\n",
    "def update_orientation(image):\n",
    "    exif_orientation_tag = 0x0112\n",
    "    if hasattr(image, '_getexif'):\n",
    "        exif = image._getexif()\n",
    "        if (exif != None and exif_orientation_tag in exif):\n",
    "            orientation = exif.get(exif_orientation_tag, 1)\n",
    "            # orientation is 1 based, shift to zero based and flip/transpose based on 0-based values\n",
    "            orientation -= 1\n",
    "            if orientation >= 4:\n",
    "                image = image.transpose(Image.TRANSPOSE)\n",
    "            if orientation == 2 or orientation == 3 or orientation == 6 or orientation == 7:\n",
    "                image = image.transpose(Image.FLIP_TOP_BOTTOM)\n",
    "            if orientation == 1 or orientation == 2 or orientation == 5 or orientation == 6:\n",
    "                image = image.transpose(Image.FLIP_LEFT_RIGHT)\n",
    "    return image"
   ]
  },
  {
   "cell_type": "code",
   "execution_count": 12,
   "metadata": {},
   "outputs": [],
   "source": [
    "# テストデータをロードする\n",
    "#imageFile = \"./vegetable/テストデータ/banana/reg0a6xjphd.jpeg\"\n",
    "imageFile = \"./vegetable/テストデータ/cabbage/キャベツC-min-770x578.jpg\"\n",
    "image = Image.open(imageFile)\n",
    "\n",
    "image = update_orientation(image)\n",
    "\n",
    "image = convert_to_opencv(image)"
   ]
  },
  {
   "cell_type": "code",
   "execution_count": 13,
   "metadata": {},
   "outputs": [],
   "source": [
    "# 寸法が1600を超える画像を処理する\n",
    "image = resize_down_to_1600_max_dim(image)"
   ]
  },
  {
   "cell_type": "code",
   "execution_count": 14,
   "metadata": {},
   "outputs": [],
   "source": [
    "# 中央の最大の正方形を切り取る\n",
    "h, w = image.shape[:2]\n",
    "min_dim = min(w,h)\n",
    "max_square_image = crop_center(image, min_dim, min_dim)"
   ]
  },
  {
   "cell_type": "code",
   "execution_count": 15,
   "metadata": {},
   "outputs": [],
   "source": [
    "# サイズを 256×256 に縮小する\n",
    "augmented_image = resize_to_256_square(max_square_image)"
   ]
  },
  {
   "cell_type": "code",
   "execution_count": 16,
   "metadata": {},
   "outputs": [],
   "source": [
    "# モデルの特定の入力サイズの中心を切り取る\n",
    "\n",
    "with tf.compat.v1.Session() as sess:\n",
    "    input_tensor_shape = sess.graph.get_tensor_by_name('Placeholder:0').shape.as_list()\n",
    "network_input_size = input_tensor_shape[1]\n",
    "\n",
    "augmented_image = crop_center(augmented_image, network_input_size, network_input_size)"
   ]
  },
  {
   "cell_type": "code",
   "execution_count": 17,
   "metadata": {},
   "outputs": [],
   "source": [
    "# 推論処理：画像がテンソルとして準備されると、予測のためにモデルを介して送信することができる。\n",
    "\n",
    "output_layer = 'loss:0'\n",
    "input_node = 'Placeholder:0'\n",
    "\n",
    "with tf.compat.v1.Session() as sess:\n",
    "    try:\n",
    "        prob_tensor = sess.graph.get_tensor_by_name(output_layer)\n",
    "        predictions = sess.run(prob_tensor, {input_node: [augmented_image] })\n",
    "    except KeyError:\n",
    "        print (\"Couldn't find classification output layer: \" + output_layer + \".\")\n",
    "        print (\"Verify this a model exported from an Object Detection project.\")\n",
    "        exit(-1)"
   ]
  },
  {
   "cell_type": "code",
   "execution_count": 18,
   "metadata": {},
   "outputs": [
    {
     "name": "stdout",
     "output_type": "stream",
     "text": [
      "Classified as: lettuce\n",
      "\n",
      "banana [3.06799993e-05 9.46737006e-02 1.14699997e-05 1.92453002e-03\n",
      " 9.02248025e-01 2.06099994e-05 5.80000005e-06 2.12000009e-06\n",
      " 1.36999995e-06 1.08170998e-03]\n"
     ]
    }
   ],
   "source": [
    "# 結果表示：モデルを介して画像テンソルを実行した場合は、ラベルにマッピングする必要がある。\n",
    "\n",
    "highest_probability_index = np.argmax(predictions)\n",
    "print('Classified as: ' + labels[highest_probability_index])\n",
    "print()\n",
    "\n",
    "label_index = 0\n",
    "for p in predictions:\n",
    "    truncated_probablity = np.float64(np.round(p,8))\n",
    "    print (labels[label_index], truncated_probablity)\n",
    "    label_index += 1"
   ]
  }
 ],
 "metadata": {
  "kernelspec": {
   "display_name": "base",
   "language": "python",
   "name": "python3"
  },
  "language_info": {
   "codemirror_mode": {
    "name": "ipython",
    "version": 3
   },
   "file_extension": ".py",
   "mimetype": "text/x-python",
   "name": "python",
   "nbconvert_exporter": "python",
   "pygments_lexer": "ipython3",
   "version": "3.9.7 (default, Sep 16 2021, 16:59:28) [MSC v.1916 64 bit (AMD64)]"
  },
  "orig_nbformat": 4,
  "vscode": {
   "interpreter": {
    "hash": "0199addb45cb5e6c8d89ab59d7682c0a2fb7fef7d33a61a64c1155a0cf6c44ad"
   }
  }
 },
 "nbformat": 4,
 "nbformat_minor": 2
}
