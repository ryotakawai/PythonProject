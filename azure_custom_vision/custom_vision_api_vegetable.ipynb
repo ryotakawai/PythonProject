{
 "cells": [
  {
   "cell_type": "code",
   "execution_count": 1,
   "metadata": {},
   "outputs": [],
   "source": [
    "import requests\n",
    "import json"
   ]
  },
  {
   "cell_type": "code",
   "execution_count": 2,
   "metadata": {},
   "outputs": [],
   "source": [
    "url=\"https://imageclassificationapi-prediction.cognitiveservices.azure.com/customvision/v3.0/Prediction/e684ec86-d810-471f-9730-bdc608fe5662/classify/iterations/Iteration1/image\"\n",
    "headers={'content-type':'application/octet-stream','Prediction-Key':'0fef981c788442468180b057124f79eb'}\n",
    "response =requests.post(url,data=open(\"vegetable/テストデータ/banana/reg0a6xjphd.jpeg\",\"rb\"),headers=headers)\n",
    "response.raise_for_status()"
   ]
  },
  {
   "cell_type": "code",
   "execution_count": 3,
   "metadata": {},
   "outputs": [
    {
     "name": "stdout",
     "output_type": "stream",
     "text": [
      "banana 0.8802592\n",
      "radish 0.03315661\n",
      "tomato 0.024904773\n",
      "potato 0.020987814\n",
      "onion 0.013367305\n",
      "watermelon 0.0111518735\n",
      "carrot 0.0057674902\n",
      "cucumber 0.0046735164\n",
      "lettuce 0.0029951439\n",
      "cabbage 0.0027361375\n"
     ]
    }
   ],
   "source": [
    "analysis = response.json()\n",
    "\n",
    "for i in range(10):\n",
    "    name, pred = analysis[\"predictions\"][i][\"tagName\"], analysis[\"predictions\"][i][\"probability\"]\n",
    "    print(name, pred)"
   ]
  }
 ],
 "metadata": {
  "kernelspec": {
   "display_name": "Python 3.9.7 ('base')",
   "language": "python",
   "name": "python3"
  },
  "language_info": {
   "codemirror_mode": {
    "name": "ipython",
    "version": 3
   },
   "file_extension": ".py",
   "mimetype": "text/x-python",
   "name": "python",
   "nbconvert_exporter": "python",
   "pygments_lexer": "ipython3",
   "version": "3.9.7"
  },
  "orig_nbformat": 4,
  "vscode": {
   "interpreter": {
    "hash": "0199addb45cb5e6c8d89ab59d7682c0a2fb7fef7d33a61a64c1155a0cf6c44ad"
   }
  }
 },
 "nbformat": 4,
 "nbformat_minor": 2
}
