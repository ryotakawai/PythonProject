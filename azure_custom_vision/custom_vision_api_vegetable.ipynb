{
 "cells": [
  {
   "cell_type": "code",
   "execution_count": 1,
   "metadata": {},
   "outputs": [],
   "source": [
    "import requests\n",
    "import json"
   ]
  },
  {
   "cell_type": "code",
   "execution_count": 3,
   "metadata": {},
   "outputs": [],
   "source": [
    "url=\"https://imageclassificationapi-prediction.cognitiveservices.azure.com/customvision/v3.0/Prediction/e684ec86-d810-471f-9730-bdc608fe5662/classify/iterations/Iteration2/image\"\n",
    "headers={'content-type':'application/octet-stream','Prediction-Key':'0fef981c788442468180b057124f79eb'}\n",
    "response =requests.post(url,data=open(\"vegetable/テストデータ/banana/reg0a6xjphd.jpeg\",\"rb\"),headers=headers)\n",
    "response.raise_for_status()"
   ]
  },
  {
   "cell_type": "code",
   "execution_count": 4,
   "metadata": {},
   "outputs": [
    {
     "name": "stdout",
     "output_type": "stream",
     "text": [
      "banana 0.997985\n",
      "radish 0.0010865751\n",
      "watermelon 0.00041571903\n",
      "onion 0.0001873016\n",
      "carrot 0.00017674806\n",
      "cucumber 0.00013999669\n",
      "potato 4.6924083e-06\n",
      "lettuce 2.048515e-06\n",
      "tomato 1.0899032e-06\n",
      "cabbage 8.919538e-07\n"
     ]
    }
   ],
   "source": [
    "analysis = response.json()\n",
    "\n",
    "for i in range(10):\n",
    "    name, pred = analysis[\"predictions\"][i][\"tagName\"], analysis[\"predictions\"][i][\"probability\"]\n",
    "    print(name, pred)"
   ]
  }
 ],
 "metadata": {
  "kernelspec": {
   "display_name": "Python 3.9.7 ('base')",
   "language": "python",
   "name": "python3"
  },
  "language_info": {
   "codemirror_mode": {
    "name": "ipython",
    "version": 3
   },
   "file_extension": ".py",
   "mimetype": "text/x-python",
   "name": "python",
   "nbconvert_exporter": "python",
   "pygments_lexer": "ipython3",
   "version": "3.9.7"
  },
  "orig_nbformat": 4,
  "vscode": {
   "interpreter": {
    "hash": "0199addb45cb5e6c8d89ab59d7682c0a2fb7fef7d33a61a64c1155a0cf6c44ad"
   }
  }
 },
 "nbformat": 4,
 "nbformat_minor": 2
}
