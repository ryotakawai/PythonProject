{
 "cells": [
  {
   "cell_type": "code",
   "execution_count": 1,
   "metadata": {},
   "outputs": [],
   "source": [
    "import requests\n",
    "import json"
   ]
  },
  {
   "cell_type": "code",
   "execution_count": 2,
   "metadata": {},
   "outputs": [],
   "source": [
    "url=\"https://imageclassificationapi-prediction.cognitiveservices.azure.com/customvision/v3.0/Prediction/9574ed69-9d9a-4c3e-a932-2d9df0e58635/classify/iterations/Iteration2/image\"\n",
    "headers={'content-type':'application/octet-stream','Prediction-Key':'0fef981c788442468180b057124f79eb'}\n",
    "response =requests.post(url,data=open(\"animal/pomeranian/pomeranian_test.png\",\"rb\"),headers=headers)\n",
    "response.raise_for_status()"
   ]
  },
  {
   "cell_type": "code",
   "execution_count": 3,
   "metadata": {},
   "outputs": [
    {
     "data": {
      "text/plain": [
       "{'id': 'e32c9cde-5757-4b4c-a797-abf2f321a4c2',\n",
       " 'project': '9574ed69-9d9a-4c3e-a932-2d9df0e58635',\n",
       " 'iteration': 'c9ad1cfb-71e2-4975-84ae-b62b4c73fba9',\n",
       " 'created': '2023-02-27T04:22:13.155Z',\n",
       " 'predictions': [{'probability': 0.902216,\n",
       "   'tagId': '399b96ac-f8ea-4482-be53-ae451c5890af',\n",
       "   'tagName': 'pomeranian'},\n",
       "  {'probability': 0.0584605,\n",
       "   'tagId': 'e67aef60-d587-4b32-9596-f849a0ea2d94',\n",
       "   'tagName': 'shiba_inu'},\n",
       "  {'probability': 0.037292033,\n",
       "   'tagId': 'e5ea70b9-dd1f-4f00-b078-4c8888841246',\n",
       "   'tagName': 'Birman'},\n",
       "  {'probability': 0.0008639028,\n",
       "   'tagId': 'cc5db3c1-d358-4f06-9800-ec2b5ebca420',\n",
       "   'tagName': 'american_bulldog'},\n",
       "  {'probability': 0.0006974687,\n",
       "   'tagId': '4390d23e-2970-45d8-bee0-ecb2382f5a4d',\n",
       "   'tagName': 'beagle'},\n",
       "  {'probability': 0.0002774368,\n",
       "   'tagId': '219eda8a-b762-4a5c-9eb6-d35391647d05',\n",
       "   'tagName': 'Bombay'},\n",
       "  {'probability': 0.0001213372,\n",
       "   'tagId': '6a442561-50c6-4219-b15c-620395c97b62',\n",
       "   'tagName': 'Abyssinian'},\n",
       "  {'probability': 3.443462e-05,\n",
       "   'tagId': '4f3dee5b-5fa1-4341-9ee4-0529cec71782',\n",
       "   'tagName': 'american_pit_bull_terrier'},\n",
       "  {'probability': 2.8832976e-05,\n",
       "   'tagId': 'feadbe25-b89b-4d38-88f5-de09bd5d5d5b',\n",
       "   'tagName': 'basset_hound'},\n",
       "  {'probability': 8.051184e-06,\n",
       "   'tagId': '901a9706-3074-44af-890e-36bc06f20296',\n",
       "   'tagName': 'Bengal'}]}"
      ]
     },
     "execution_count": 3,
     "metadata": {},
     "output_type": "execute_result"
    }
   ],
   "source": [
    "analysis = response.json()\n",
    "analysis"
   ]
  },
  {
   "cell_type": "code",
   "execution_count": 4,
   "metadata": {},
   "outputs": [
    {
     "name": "stdout",
     "output_type": "stream",
     "text": [
      "pomeranian 0.902216\n",
      "shiba_inu 0.0584605\n",
      "Birman 0.037292033\n",
      "american_bulldog 0.0008639028\n",
      "beagle 0.0006974687\n",
      "Bombay 0.0002774368\n",
      "Abyssinian 0.0001213372\n",
      "american_pit_bull_terrier 3.443462e-05\n",
      "basset_hound 2.8832976e-05\n",
      "Bengal 8.051184e-06\n"
     ]
    }
   ],
   "source": [
    "for i in range(10):\n",
    "    name, pred = analysis[\"predictions\"][i][\"tagName\"], analysis[\"predictions\"][i][\"probability\"]\n",
    "    print(name, pred)"
   ]
  }
 ],
 "metadata": {
  "kernelspec": {
   "display_name": "Python 3.9.7 ('base')",
   "language": "python",
   "name": "python3"
  },
  "language_info": {
   "codemirror_mode": {
    "name": "ipython",
    "version": 3
   },
   "file_extension": ".py",
   "mimetype": "text/x-python",
   "name": "python",
   "nbconvert_exporter": "python",
   "pygments_lexer": "ipython3",
   "version": "3.9.7"
  },
  "orig_nbformat": 4,
  "vscode": {
   "interpreter": {
    "hash": "0199addb45cb5e6c8d89ab59d7682c0a2fb7fef7d33a61a64c1155a0cf6c44ad"
   }
  }
 },
 "nbformat": 4,
 "nbformat_minor": 2
}
