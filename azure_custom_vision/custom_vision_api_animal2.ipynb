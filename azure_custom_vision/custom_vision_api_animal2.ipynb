{
 "cells": [
  {
   "cell_type": "code",
   "execution_count": 1,
   "metadata": {},
   "outputs": [],
   "source": [
    "import requests\n",
    "import json"
   ]
  },
  {
   "cell_type": "code",
   "execution_count": 2,
   "metadata": {},
   "outputs": [
    {
     "ename": "HTTPError",
     "evalue": "404 Client Error: Not Found for url: https://imageclassificationapi-prediction.cognitiveservices.azure.com/customvision/v3.0/Prediction/9574ed69-9d9a-4c3e-a932-2d9df0e58635/classify/iterations/Iteration1/image",
     "output_type": "error",
     "traceback": [
      "\u001b[1;31m---------------------------------------------------------------------------\u001b[0m",
      "\u001b[1;31mHTTPError\u001b[0m                                 Traceback (most recent call last)",
      "\u001b[1;32mセル2 を c:\\Users\\210450279\\Anaconda3\\src\\azure_custom_vision\\custom_vision_api_2.ipynb\u001b[0m in \u001b[0;36m<cell line: 4>\u001b[1;34m()\u001b[0m\n\u001b[0;32m      <a href='vscode-notebook-cell:/c%3A/Users/210450279/Anaconda3/src/azure_custom_vision/custom_vision_api_2.ipynb#W1sZmlsZQ%3D%3D?line=1'>2</a>\u001b[0m headers\u001b[39m=\u001b[39m{\u001b[39m'\u001b[39m\u001b[39mcontent-type\u001b[39m\u001b[39m'\u001b[39m:\u001b[39m'\u001b[39m\u001b[39mapplication/octet-stream\u001b[39m\u001b[39m'\u001b[39m,\u001b[39m'\u001b[39m\u001b[39mPrediction-Key\u001b[39m\u001b[39m'\u001b[39m:\u001b[39m'\u001b[39m\u001b[39m0fef981c788442468180b057124f79eb\u001b[39m\u001b[39m'\u001b[39m}\n\u001b[0;32m      <a href='vscode-notebook-cell:/c%3A/Users/210450279/Anaconda3/src/azure_custom_vision/custom_vision_api_2.ipynb#W1sZmlsZQ%3D%3D?line=2'>3</a>\u001b[0m response \u001b[39m=\u001b[39mrequests\u001b[39m.\u001b[39mpost(url,data\u001b[39m=\u001b[39m\u001b[39mopen\u001b[39m(\u001b[39m\"\u001b[39m\u001b[39manimal/pomeranian/pomeranian_test.png\u001b[39m\u001b[39m\"\u001b[39m,\u001b[39m\"\u001b[39m\u001b[39mrb\u001b[39m\u001b[39m\"\u001b[39m),headers\u001b[39m=\u001b[39mheaders)\n\u001b[1;32m----> <a href='vscode-notebook-cell:/c%3A/Users/210450279/Anaconda3/src/azure_custom_vision/custom_vision_api_2.ipynb#W1sZmlsZQ%3D%3D?line=3'>4</a>\u001b[0m response\u001b[39m.\u001b[39;49mraise_for_status()\n",
      "File \u001b[1;32mc:\\Users\\210450279\\Anaconda3\\lib\\site-packages\\requests\\models.py:960\u001b[0m, in \u001b[0;36mResponse.raise_for_status\u001b[1;34m(self)\u001b[0m\n\u001b[0;32m    957\u001b[0m     http_error_msg \u001b[39m=\u001b[39m \u001b[39mu\u001b[39m\u001b[39m'\u001b[39m\u001b[39m%s\u001b[39;00m\u001b[39m Server Error: \u001b[39m\u001b[39m%s\u001b[39;00m\u001b[39m for url: \u001b[39m\u001b[39m%s\u001b[39;00m\u001b[39m'\u001b[39m \u001b[39m%\u001b[39m (\u001b[39mself\u001b[39m\u001b[39m.\u001b[39mstatus_code, reason, \u001b[39mself\u001b[39m\u001b[39m.\u001b[39murl)\n\u001b[0;32m    959\u001b[0m \u001b[39mif\u001b[39;00m http_error_msg:\n\u001b[1;32m--> 960\u001b[0m     \u001b[39mraise\u001b[39;00m HTTPError(http_error_msg, response\u001b[39m=\u001b[39m\u001b[39mself\u001b[39m)\n",
      "\u001b[1;31mHTTPError\u001b[0m: 404 Client Error: Not Found for url: https://imageclassificationapi-prediction.cognitiveservices.azure.com/customvision/v3.0/Prediction/9574ed69-9d9a-4c3e-a932-2d9df0e58635/classify/iterations/Iteration1/image"
     ]
    }
   ],
   "source": [
    "url=\"https://imageclassificationapi-prediction.cognitiveservices.azure.com/customvision/v3.0/Prediction/9574ed69-9d9a-4c3e-a932-2d9df0e58635/classify/iterations/Iteration1/image\"\n",
    "headers={'content-type':'application/octet-stream','Prediction-Key':'0fef981c788442468180b057124f79eb'}\n",
    "response =requests.post(url,data=open(\"animal/pomeranian/pomeranian_test.png\",\"rb\"),headers=headers)\n",
    "response.raise_for_status()"
   ]
  },
  {
   "cell_type": "code",
   "execution_count": 4,
   "metadata": {},
   "outputs": [
    {
     "data": {
      "text/plain": [
       "{'id': '58f87fbf-adf2-428f-a9ae-5e1b9b0b0f2c',\n",
       " 'project': '9574ed69-9d9a-4c3e-a932-2d9df0e58635',\n",
       " 'iteration': 'a446b82b-2eea-419b-9831-39f34991035b',\n",
       " 'created': '2022-09-20T03:54:13.232Z',\n",
       " 'predictions': [{'probability': 0.9490356,\n",
       "   'tagId': '399b96ac-f8ea-4482-be53-ae451c5890af',\n",
       "   'tagName': 'pomeranian'},\n",
       "  {'probability': 0.023050636,\n",
       "   'tagId': 'e67aef60-d587-4b32-9596-f849a0ea2d94',\n",
       "   'tagName': 'shiba_inu'},\n",
       "  {'probability': 0.007937664,\n",
       "   'tagId': 'e5ea70b9-dd1f-4f00-b078-4c8888841246',\n",
       "   'tagName': 'Birman'},\n",
       "  {'probability': 0.006262903,\n",
       "   'tagId': '4f3dee5b-5fa1-4341-9ee4-0529cec71782',\n",
       "   'tagName': 'american_pit_bull_terrier'},\n",
       "  {'probability': 0.0049510836,\n",
       "   'tagId': '219eda8a-b762-4a5c-9eb6-d35391647d05',\n",
       "   'tagName': 'Bombay'},\n",
       "  {'probability': 0.0027936446,\n",
       "   'tagId': 'feadbe25-b89b-4d38-88f5-de09bd5d5d5b',\n",
       "   'tagName': 'basset_hound'},\n",
       "  {'probability': 0.002116347,\n",
       "   'tagId': 'cc5db3c1-d358-4f06-9800-ec2b5ebca420',\n",
       "   'tagName': 'american_bulldog'},\n",
       "  {'probability': 0.0014732385,\n",
       "   'tagId': '6a442561-50c6-4219-b15c-620395c97b62',\n",
       "   'tagName': 'Abyssinian'},\n",
       "  {'probability': 0.0012130827,\n",
       "   'tagId': '901a9706-3074-44af-890e-36bc06f20296',\n",
       "   'tagName': 'Bengal'},\n",
       "  {'probability': 0.0011658128,\n",
       "   'tagId': '4390d23e-2970-45d8-bee0-ecb2382f5a4d',\n",
       "   'tagName': 'beagle'}]}"
      ]
     },
     "execution_count": 4,
     "metadata": {},
     "output_type": "execute_result"
    }
   ],
   "source": [
    "analysis = response.json()\n",
    "analysis"
   ]
  },
  {
   "cell_type": "code",
   "execution_count": 5,
   "metadata": {},
   "outputs": [
    {
     "name": "stdout",
     "output_type": "stream",
     "text": [
      "pomeranian 0.9490356\n",
      "shiba_inu 0.023050636\n",
      "Birman 0.007937664\n",
      "american_pit_bull_terrier 0.006262903\n",
      "Bombay 0.0049510836\n",
      "basset_hound 0.0027936446\n",
      "american_bulldog 0.002116347\n",
      "Abyssinian 0.0014732385\n",
      "Bengal 0.0012130827\n",
      "beagle 0.0011658128\n"
     ]
    }
   ],
   "source": [
    "for i in range(10):\n",
    "    name, pred = analysis[\"predictions\"][i][\"tagName\"], analysis[\"predictions\"][i][\"probability\"]\n",
    "    print(name, pred)"
   ]
  }
 ],
 "metadata": {
  "kernelspec": {
   "display_name": "Python 3.9.7 ('base')",
   "language": "python",
   "name": "python3"
  },
  "language_info": {
   "codemirror_mode": {
    "name": "ipython",
    "version": 3
   },
   "file_extension": ".py",
   "mimetype": "text/x-python",
   "name": "python",
   "nbconvert_exporter": "python",
   "pygments_lexer": "ipython3",
   "version": "3.9.7"
  },
  "orig_nbformat": 4,
  "vscode": {
   "interpreter": {
    "hash": "0199addb45cb5e6c8d89ab59d7682c0a2fb7fef7d33a61a64c1155a0cf6c44ad"
   }
  }
 },
 "nbformat": 4,
 "nbformat_minor": 2
}
