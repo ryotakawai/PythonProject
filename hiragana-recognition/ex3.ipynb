{
 "cells": [
  {
   "cell_type": "code",
   "execution_count": 3,
   "metadata": {},
   "outputs": [
    {
     "name": "stdout",
     "output_type": "stream",
     "text": [
      "[0, 4, 8, 13, 17, 21, 25, 30, 34, 38]\n"
     ]
    }
   ],
   "source": [
    "# ラベルの読み込み\n",
    "\n",
    "from ndllab.hiragana2 import Dataset, load_data\n",
    "\n",
    "# 実行\n",
    "images, labels = load_data(dataset_root=\"./hiragana73\", csv_file=\"hiragana73_test.csv\")\n",
    "testset = Dataset(images, labels)\n",
    "\n",
    "# 1000枚飛ばしでラベルを10枚分表示\n",
    "print([testset.labels[i*1000] for i in range(10)])"
   ]
  }
 ],
 "metadata": {
  "interpreter": {
   "hash": "f5bb542c5f8ffcfc7fda68624d38253a8d24c155b1e912518077c095286d0bbc"
  },
  "kernelspec": {
   "display_name": "Python 3.6.10 ('rebases')",
   "language": "python",
   "name": "python3"
  },
  "language_info": {
   "codemirror_mode": {
    "name": "ipython",
    "version": 3
   },
   "file_extension": ".py",
   "mimetype": "text/x-python",
   "name": "python",
   "nbconvert_exporter": "python",
   "pygments_lexer": "ipython3",
   "version": "3.6.10"
  },
  "orig_nbformat": 4
 },
 "nbformat": 4,
 "nbformat_minor": 2
}
