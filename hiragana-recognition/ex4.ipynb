{
 "cells": [
  {
   "cell_type": "code",
   "execution_count": 1,
   "metadata": {},
   "outputs": [
    {
     "name": "stdout",
     "output_type": "stream",
     "text": [
      "(64000, 48, 48, 3)\n",
      "(64000, 73)\n",
      "(16000, 48, 48, 3)\n",
      "(16000, 73)\n",
      "[ 3 18 44 71 70 20  6  5 61 60 60 48 55 65 23 68 61 46  2 19 21 69  0 18\n",
      " 72  7 72 29 52 66 28 12 16  1 49 39 52 65 64  9 14 71 19 14  6 63 37  3\n",
      " 38 63 31  2 16 44 21 65 18 72 22 47 60 13  4 14 64 22 16 68 71 15 31 58\n",
      " 69 35 13 14  4 21 47 25 39 11  2  6 21 58 31 65  6 53 39 12  1 66 59 41\n",
      " 18 47 10 37]\n"
     ]
    }
   ],
   "source": [
    "from ndllab.hiragana3 import HiraganaDataset\n",
    "\n",
    "# 実行\n",
    "dataset = HiraganaDataset(one_hot=True)\n",
    "\n",
    "print(dataset.train.images.shape)\n",
    "print(dataset.train.labels.shape)\n",
    "print(dataset.test.images.shape)\n",
    "print(dataset.test.labels.shape)\n",
    "\n",
    "batch_iter = dataset.train.next_batch(batch_size=100, shuffle=True)\n",
    "images, labels = next(batch_iter)\n",
    "print(labels.argmax(axis=1))"
   ]
  }
 ],
 "metadata": {
  "interpreter": {
   "hash": "f5bb542c5f8ffcfc7fda68624d38253a8d24c155b1e912518077c095286d0bbc"
  },
  "kernelspec": {
   "display_name": "Python 3.6.10 ('rebases')",
   "language": "python",
   "name": "python3"
  },
  "language_info": {
   "codemirror_mode": {
    "name": "ipython",
    "version": 3
   },
   "file_extension": ".py",
   "mimetype": "text/x-python",
   "name": "python",
   "nbconvert_exporter": "python",
   "pygments_lexer": "ipython3",
   "version": "3.6.10"
  },
  "orig_nbformat": 4
 },
 "nbformat": 4,
 "nbformat_minor": 2
}
