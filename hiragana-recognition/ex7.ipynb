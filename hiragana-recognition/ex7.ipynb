{
 "cells": [
  {
   "cell_type": "code",
   "execution_count": 1,
   "metadata": {},
   "outputs": [],
   "source": [
    "import numpy as np\n",
    "import pandas as pd\n",
    "import tensorflow as tf\n",
    "from pathlib import Path\n",
    "from sklearn.metrics import accuracy_score, f1_score\n",
    "from ndllab.cv import KFold\n",
    "from ndllab.augment2 import OverSampler\n",
    "from ndllab.net3 import network"
   ]
  },
  {
   "cell_type": "code",
   "execution_count": null,
   "metadata": {},
   "outputs": [],
   "source": [
    "#--------------------------------------------------------------------------------------------------\n",
    "#  k-分割交差検証\n",
    "# トレーニングセットとバリデーションセットをそれぞれk個に等分する。\n",
    "# そして異なるサブネットを用いて、k回のモデル作成を行う。\n",
    "# scikit-learnには、k-分割交差検証を行うための関数 sklearn.model_selection.KFold が実装されている。\n",
    "# 交差検証で用いるトレーニングセットとバリデーションセットの組を作るには、\n",
    "# sklearn.model_selection.train_test_split を KFold().split() に置き換える。\n",
    "#--------------------------------------------------------------------------------------------------"
   ]
  },
  {
   "cell_type": "code",
   "execution_count": 2,
   "metadata": {},
   "outputs": [],
   "source": [
    "# パラメーター\n",
    "# バッチサイズ\n",
    "BATCH_SIZE = 32\n",
    "# 学習回数\n",
    "NUM_EPOCHS = 5\n",
    "NUM_STEPS = 1000\n",
    "# 学習中の出力頻度\n",
    "OUTPUT_BY_STEPS = 500\n",
    "# 学習率の初期値\n",
    "LEARNING_RATE = 1e-4\n",
    "# ドロップアウト率\n",
    "DROPOUT_PROB_1 = 0.5\n",
    "DROPOUT_PROB_2 = 0.5\n",
    "# 交差検証の分割数\n",
    "N_FOLDS = 5"
   ]
  },
  {
   "cell_type": "code",
   "execution_count": 3,
   "metadata": {},
   "outputs": [],
   "source": [
    "# 再現性の確保のために乱数シードを固定\n",
    "np.random.seed(12345)\n",
    "\n",
    "# 平仮名データセットのワンホット表現での読み込み\n",
    "kfold = KFold(one_hot=True, cv=N_FOLDS)"
   ]
  },
  {
   "cell_type": "code",
   "execution_count": 4,
   "metadata": {},
   "outputs": [
    {
     "name": "stdout",
     "output_type": "stream",
     "text": [
      "WARNING:tensorflow:From c:\\Users\\210450279\\Anaconda3\\src\\hiragana-recognition\\ndllab\\net3.py:20: The name tf.truncated_normal is deprecated. Please use tf.random.truncated_normal instead.\n",
      "\n",
      "WARNING:tensorflow:From c:\\Users\\210450279\\Anaconda3\\src\\hiragana-recognition\\ndllab\\net3.py:32: The name tf.nn.max_pool is deprecated. Please use tf.nn.max_pool2d instead.\n",
      "\n",
      "WARNING:tensorflow:From c:\\Users\\210450279\\Anaconda3\\src\\hiragana-recognition\\ndllab\\net3.py:4: calling dropout (from tensorflow.python.ops.nn_ops) with keep_prob is deprecated and will be removed in a future version.\n",
      "Instructions for updating:\n",
      "Please use `rate` instead of `keep_prob`. Rate should be set to `rate = 1 - keep_prob`.\n"
     ]
    }
   ],
   "source": [
    "# グラフの定義\n",
    "g = tf.Graph()\n",
    "with g.as_default():\n",
    "    # 再現性の確保のために乱数シードを固定（数値は何でもよい）\n",
    "    tf.set_random_seed(12345)\n",
    "    # 入力\n",
    "    x = tf.placeholder(tf.float32, name='images', shape=(None, 48, 48, 3))\n",
    "    p_1 = tf.placeholder(tf.float32, name='p_1')\n",
    "    p_2 = tf.placeholder(tf.float32, name='p_2')\n",
    "    labels = tf.placeholder(tf.float32, name='labels',\n",
    "                            shape=(None, kfold.n_classes))\n",
    "    \n",
    "    # 出力 (softmax)\n",
    "    y = network(x, p_1, p_2)\n",
    "\n",
    "    # 損失関数（交差エントロピー）と最適化処理（Adam）\n",
    "    loss = -tf.reduce_sum(labels * tf.log(y + 1e-9)) / tf.cast(tf.shape(y)[0], tf.float32)\n",
    "\n",
    "    # 1エポックごとに学習率を小さくする\n",
    "    global_step = tf.Variable(0, trainable=False)\n",
    "    learning_rate = tf.train.exponential_decay(\n",
    "        learning_rate=LEARNING_RATE, decay_rate=0.5, decay_steps=NUM_STEPS, global_step=global_step)\n",
    "    optimizer = tf.train.AdamOptimizer(learning_rate).minimize(loss)\n",
    "    \n",
    "    # 精度検証 (Top-1 accuracy)\n",
    "    prediction_match = tf.equal(tf.argmax(y, axis=1), tf.argmax(labels, axis=1))\n",
    "    accuracy = tf.reduce_mean(tf.cast(prediction_match, tf.float32), name='accuracy')"
   ]
  },
  {
   "cell_type": "code",
   "execution_count": 5,
   "metadata": {},
   "outputs": [],
   "source": [
    "def train(sess, dropout_prob, trainset, valset):\n",
    "    records = list()\n",
    "    \n",
    "    step = 0\n",
    "\n",
    "    # データセット全体を NUM_EPOCHS 回学習する\n",
    "    for epoch in range(NUM_EPOCHS):\n",
    "        batch_iter = trainset.next_batch(BATCH_SIZE)\n",
    "\n",
    "        # イテレータを NUM_STEPS 回呼び出す\n",
    "        for _ in range(NUM_STEPS):\n",
    "            batch = next(batch_iter)\n",
    "            # 正規化\n",
    "            normalized_batch = batch[0] / 255.0\n",
    "            # バッチ学習\n",
    "            optimizer.run(feed_dict={x: normalized_batch,\n",
    "                                    labels: batch[1], **dropout_prob})\n",
    "\n",
    "            # コンソールへの出力\n",
    "            if step % OUTPUT_BY_STEPS == 0:\n",
    "                train_loss, train_accuracy = sess.run([loss, accuracy],\n",
    "                                                    feed_dict={x: normalized_batch, labels: batch[1], p_1: 1.0, p_2: 1.0})\n",
    "\n",
    "                val_images, val_labels = valset.images / 255.0, valset.labels\n",
    "                val_loss, val_y = sess.run([loss, y],\n",
    "                                        feed_dict={x: val_images, labels: val_labels, p_1: 1.0, p_2: 1.0})\n",
    "\n",
    "                y_pred = np.argmax(val_y, axis=1)\n",
    "                y_true = np.argmax(valset.labels, axis=1)\n",
    "                val_accuracy = accuracy_score(y_true=y_true, y_pred=y_pred)\n",
    "                val_f1_macro = f1_score(\n",
    "                    y_true=y_true, y_pred=y_pred, average='macro')\n",
    "                record = dict()\n",
    "                record['epoch'] = epoch\n",
    "                record['step'] = step\n",
    "                record['train_loss'] = train_loss\n",
    "                record['train_accuracy'] = train_accuracy\n",
    "                record['val_loss'] = val_loss\n",
    "                record['val_accuracy'] = val_accuracy\n",
    "                record['val_f1_macro'] = val_f1_macro\n",
    "                records.append(record)\n",
    "                print(record)\n",
    "\n",
    "            # ステップ数を更新\n",
    "            step += 1\n",
    "    return records"
   ]
  },
  {
   "cell_type": "code",
   "execution_count": null,
   "metadata": {},
   "outputs": [],
   "source": [
    "#--------------------------------------------------------------------------------------------------\n",
    "# 5-fold交差検証を実行する\n",
    "# loss、精度、F値を500エポックごとに計算する処理を実装する\n",
    "# また、loss、精度、F値の計算結果をCSV (5fold_cv.csv) とコンソールの両方に出力する\n",
    "#--------------------------------------------------------------------------------------------------"
   ]
  },
  {
   "cell_type": "code",
   "execution_count": 6,
   "metadata": {},
   "outputs": [
    {
     "name": "stdout",
     "output_type": "stream",
     "text": [
      "Fold 1/5\n",
      "{'epoch': 0, 'step': 0, 'train_loss': 4.288516, 'train_accuracy': 0.09375, 'val_loss': 4.2904167, 'val_accuracy': 0.016953125, 'val_f1_macro': 0.0004567262410272763}\n",
      "{'epoch': 0, 'step': 500, 'train_loss': 2.2569866, 'train_accuracy': 0.5, 'val_loss': 2.3176742, 'val_accuracy': 0.499921875, 'val_f1_macro': 0.4225479264291372}\n",
      "{'epoch': 1, 'step': 1000, 'train_loss': 0.96595585, 'train_accuracy': 0.625, 'val_loss': 0.93666387, 'val_accuracy': 0.775078125, 'val_f1_macro': 0.7388584651571345}\n",
      "{'epoch': 1, 'step': 1500, 'train_loss': 1.3389697, 'train_accuracy': 0.625, 'val_loss': 0.615573, 'val_accuracy': 0.858046875, 'val_f1_macro': 0.815617269540006}\n",
      "{'epoch': 2, 'step': 2000, 'train_loss': 0.29012957, 'train_accuracy': 0.9375, 'val_loss': 0.46358153, 'val_accuracy': 0.90421875, 'val_f1_macro': 0.8648423390151593}\n",
      "{'epoch': 2, 'step': 2500, 'train_loss': 0.45994517, 'train_accuracy': 0.90625, 'val_loss': 0.36180466, 'val_accuracy': 0.92046875, 'val_f1_macro': 0.8768954319537893}\n",
      "{'epoch': 3, 'step': 3000, 'train_loss': 0.4905733, 'train_accuracy': 0.84375, 'val_loss': 0.31499213, 'val_accuracy': 0.93140625, 'val_f1_macro': 0.9004338853799102}\n",
      "{'epoch': 3, 'step': 3500, 'train_loss': 0.154472, 'train_accuracy': 1.0, 'val_loss': 0.28216743, 'val_accuracy': 0.9315625, 'val_f1_macro': 0.8920600228140255}\n",
      "{'epoch': 4, 'step': 4000, 'train_loss': 0.19530699, 'train_accuracy': 0.9375, 'val_loss': 0.24810432, 'val_accuracy': 0.946875, 'val_f1_macro': 0.9043827349084415}\n",
      "{'epoch': 4, 'step': 4500, 'train_loss': 0.7488592, 'train_accuracy': 0.84375, 'val_loss': 0.22586468, 'val_accuracy': 0.954140625, 'val_f1_macro': 0.9151287927473869}\n",
      "Fold 2/5\n",
      "{'epoch': 0, 'step': 0, 'train_loss': 0.23563933, 'train_accuracy': 0.96875, 'val_loss': 0.20058906, 'val_accuracy': 0.957265625, 'val_f1_macro': 0.9274637315255528}\n",
      "{'epoch': 0, 'step': 500, 'train_loss': 0.5706423, 'train_accuracy': 0.90625, 'val_loss': 0.190131, 'val_accuracy': 0.947109375, 'val_f1_macro': 0.9169326542441142}\n",
      "{'epoch': 1, 'step': 1000, 'train_loss': 0.12325017, 'train_accuracy': 0.96875, 'val_loss': 0.1784336, 'val_accuracy': 0.946015625, 'val_f1_macro': 0.916874318751348}\n",
      "{'epoch': 1, 'step': 1500, 'train_loss': 0.14868835, 'train_accuracy': 0.9375, 'val_loss': 0.17849003, 'val_accuracy': 0.939921875, 'val_f1_macro': 0.907386860605147}\n",
      "{'epoch': 2, 'step': 2000, 'train_loss': 0.13076153, 'train_accuracy': 0.96875, 'val_loss': 0.15947825, 'val_accuracy': 0.954765625, 'val_f1_macro': 0.924792163929002}\n",
      "{'epoch': 2, 'step': 2500, 'train_loss': 0.16348383, 'train_accuracy': 0.90625, 'val_loss': 0.14965154, 'val_accuracy': 0.95890625, 'val_f1_macro': 0.9282435321896095}\n",
      "{'epoch': 3, 'step': 3000, 'train_loss': 0.094642475, 'train_accuracy': 1.0, 'val_loss': 0.14915398, 'val_accuracy': 0.95609375, 'val_f1_macro': 0.9265308041048916}\n",
      "{'epoch': 3, 'step': 3500, 'train_loss': 0.23362522, 'train_accuracy': 0.84375, 'val_loss': 0.1403068, 'val_accuracy': 0.960625, 'val_f1_macro': 0.9309747890860114}\n",
      "{'epoch': 4, 'step': 4000, 'train_loss': 0.10129848, 'train_accuracy': 1.0, 'val_loss': 0.13813734, 'val_accuracy': 0.96015625, 'val_f1_macro': 0.9337638505825309}\n",
      "{'epoch': 4, 'step': 4500, 'train_loss': 0.16006023, 'train_accuracy': 0.90625, 'val_loss': 0.13611454, 'val_accuracy': 0.954921875, 'val_f1_macro': 0.926829310288327}\n",
      "Fold 3/5\n",
      "{'epoch': 0, 'step': 0, 'train_loss': 0.19369242, 'train_accuracy': 0.90625, 'val_loss': 0.14805871, 'val_accuracy': 0.949453125, 'val_f1_macro': 0.9176602138609944}\n",
      "{'epoch': 0, 'step': 500, 'train_loss': 0.15637553, 'train_accuracy': 0.96875, 'val_loss': 0.13846521, 'val_accuracy': 0.9609375, 'val_f1_macro': 0.9303767611904926}\n",
      "{'epoch': 1, 'step': 1000, 'train_loss': 0.12166148, 'train_accuracy': 0.9375, 'val_loss': 0.13164906, 'val_accuracy': 0.961953125, 'val_f1_macro': 0.9269311644269418}\n",
      "{'epoch': 1, 'step': 1500, 'train_loss': 0.07344925, 'train_accuracy': 0.96875, 'val_loss': 0.13435365, 'val_accuracy': 0.9571875, 'val_f1_macro': 0.9264401886282189}\n",
      "{'epoch': 2, 'step': 2000, 'train_loss': 0.24273498, 'train_accuracy': 0.9375, 'val_loss': 0.12887302, 'val_accuracy': 0.963515625, 'val_f1_macro': 0.9316261861899412}\n",
      "{'epoch': 2, 'step': 2500, 'train_loss': 0.16487542, 'train_accuracy': 0.96875, 'val_loss': 0.13294981, 'val_accuracy': 0.956015625, 'val_f1_macro': 0.9229466857764208}\n",
      "{'epoch': 3, 'step': 3000, 'train_loss': 0.17172974, 'train_accuracy': 0.96875, 'val_loss': 0.124463074, 'val_accuracy': 0.963359375, 'val_f1_macro': 0.9320648306023331}\n",
      "{'epoch': 3, 'step': 3500, 'train_loss': 0.07528056, 'train_accuracy': 0.96875, 'val_loss': 0.11835337, 'val_accuracy': 0.96953125, 'val_f1_macro': 0.9361680410747792}\n",
      "{'epoch': 4, 'step': 4000, 'train_loss': 0.04350238, 'train_accuracy': 1.0, 'val_loss': 0.117638454, 'val_accuracy': 0.96703125, 'val_f1_macro': 0.9377076625103319}\n",
      "{'epoch': 4, 'step': 4500, 'train_loss': 0.07687917, 'train_accuracy': 0.96875, 'val_loss': 0.116975844, 'val_accuracy': 0.969453125, 'val_f1_macro': 0.9368522115383079}\n",
      "Fold 4/5\n",
      "{'epoch': 0, 'step': 0, 'train_loss': 0.14085369, 'train_accuracy': 0.9375, 'val_loss': 0.095311545, 'val_accuracy': 0.9721875, 'val_f1_macro': 0.9412561656802689}\n",
      "{'epoch': 0, 'step': 500, 'train_loss': 0.01832132, 'train_accuracy': 1.0, 'val_loss': 0.10049407, 'val_accuracy': 0.9696875, 'val_f1_macro': 0.9423572290412496}\n",
      "{'epoch': 1, 'step': 1000, 'train_loss': 0.030985778, 'train_accuracy': 1.0, 'val_loss': 0.102861784, 'val_accuracy': 0.9659375, 'val_f1_macro': 0.9332219303256807}\n",
      "{'epoch': 1, 'step': 1500, 'train_loss': 0.1691645, 'train_accuracy': 0.9375, 'val_loss': 0.100212835, 'val_accuracy': 0.96953125, 'val_f1_macro': 0.9422724026010296}\n",
      "{'epoch': 2, 'step': 2000, 'train_loss': 0.12977342, 'train_accuracy': 0.96875, 'val_loss': 0.09826013, 'val_accuracy': 0.9696875, 'val_f1_macro': 0.9404220255964415}\n",
      "{'epoch': 2, 'step': 2500, 'train_loss': 0.04452676, 'train_accuracy': 1.0, 'val_loss': 0.09544079, 'val_accuracy': 0.97203125, 'val_f1_macro': 0.9408004510067798}\n",
      "{'epoch': 3, 'step': 3000, 'train_loss': 0.16120702, 'train_accuracy': 0.9375, 'val_loss': 0.099697106, 'val_accuracy': 0.96828125, 'val_f1_macro': 0.9421697425285301}\n",
      "{'epoch': 3, 'step': 3500, 'train_loss': 0.14235458, 'train_accuracy': 0.90625, 'val_loss': 0.0934435, 'val_accuracy': 0.97375, 'val_f1_macro': 0.9461933471713309}\n",
      "{'epoch': 4, 'step': 4000, 'train_loss': 0.04348109, 'train_accuracy': 1.0, 'val_loss': 0.101969175, 'val_accuracy': 0.963203125, 'val_f1_macro': 0.9335959412218345}\n",
      "{'epoch': 4, 'step': 4500, 'train_loss': 0.06945217, 'train_accuracy': 0.9375, 'val_loss': 0.08971264, 'val_accuracy': 0.9771875, 'val_f1_macro': 0.953416306946315}\n",
      "Fold 5/5\n",
      "{'epoch': 0, 'step': 0, 'train_loss': 0.11358117, 'train_accuracy': 1.0, 'val_loss': 0.0980569, 'val_accuracy': 0.960546875, 'val_f1_macro': 0.9321179607959361}\n",
      "{'epoch': 0, 'step': 500, 'train_loss': 0.098352276, 'train_accuracy': 0.96875, 'val_loss': 0.0903785, 'val_accuracy': 0.9696875, 'val_f1_macro': 0.9417360823006613}\n",
      "{'epoch': 1, 'step': 1000, 'train_loss': 0.021349698, 'train_accuracy': 1.0, 'val_loss': 0.08283475, 'val_accuracy': 0.978359375, 'val_f1_macro': 0.9540683257738886}\n",
      "{'epoch': 1, 'step': 1500, 'train_loss': 0.08160645, 'train_accuracy': 1.0, 'val_loss': 0.09268804, 'val_accuracy': 0.967421875, 'val_f1_macro': 0.9399072326225637}\n",
      "{'epoch': 2, 'step': 2000, 'train_loss': 0.04339502, 'train_accuracy': 1.0, 'val_loss': 0.084950894, 'val_accuracy': 0.97453125, 'val_f1_macro': 0.9474085761196619}\n",
      "{'epoch': 2, 'step': 2500, 'train_loss': 0.1260071, 'train_accuracy': 0.96875, 'val_loss': 0.087279364, 'val_accuracy': 0.97421875, 'val_f1_macro': 0.9489657688569805}\n",
      "{'epoch': 3, 'step': 3000, 'train_loss': 0.117844254, 'train_accuracy': 0.96875, 'val_loss': 0.0927466, 'val_accuracy': 0.965703125, 'val_f1_macro': 0.9349373817589514}\n",
      "{'epoch': 3, 'step': 3500, 'train_loss': 0.0968544, 'train_accuracy': 0.9375, 'val_loss': 0.08070201, 'val_accuracy': 0.97671875, 'val_f1_macro': 0.9496149083165286}\n",
      "{'epoch': 4, 'step': 4000, 'train_loss': 0.09114529, 'train_accuracy': 1.0, 'val_loss': 0.082347505, 'val_accuracy': 0.972734375, 'val_f1_macro': 0.9434512574628464}\n",
      "{'epoch': 4, 'step': 4500, 'train_loss': 0.07384865, 'train_accuracy': 0.96875, 'val_loss': 0.07975583, 'val_accuracy': 0.976484375, 'val_f1_macro': 0.9514514929287002}\n",
      "write: 5fold_cv.csv\n"
     ]
    }
   ],
   "source": [
    "# セッション\n",
    "with tf.Session(graph=g) as sess:\n",
    "    sess.run(tf.global_variables_initializer())\n",
    "    dropout_prob = {p_1: DROPOUT_PROB_1, p_2: DROPOUT_PROB_2}\n",
    "    train_sampler = OverSampler()\n",
    "\n",
    "    df = pd.DataFrame()\n",
    "    for k, (trainset, valset) in enumerate(kfold.next_train_val()):\n",
    "        # トレーニングデータに対して、オーバーサンプリングを適用する\n",
    "        resampled_trainset = train_sampler.resample_from_dataset(trainset)\n",
    "        # トレーニング\n",
    "        print('Fold {:d}/{:d}'.format(k+1, N_FOLDS))\n",
    "        local_records = train(sess, dropout_prob, resampled_trainset, valset)\n",
    "        # トレーニングの結果を記録\n",
    "        local_df = pd.DataFrame(local_records)\n",
    "        local_df['fold'] = k\n",
    "        df = df.append(local_df, ignore_index=True)\n",
    "    \n",
    "    path = Path('{:d}fold_cv.csv'.format(N_FOLDS))\n",
    "    df.to_csv(path, index=False)\n",
    "    print('write: {}'.format(path))\n"
   ]
  },
  {
   "cell_type": "code",
   "execution_count": null,
   "metadata": {},
   "outputs": [],
   "source": [
    "#--------------------------------------------------------------------------------------------------\n",
    "# 交差検証の結果を可視化する\n",
    "# 具体的には、5-flod交差検証で得られる分割ごとの精度について、\n",
    "# バリデーションセットに対する平均と95%信頼区間を1エポックごとに計算し、グラフとして出力する\n",
    "#--------------------------------------------------------------------------------------------------"
   ]
  },
  {
   "cell_type": "code",
   "execution_count": 7,
   "metadata": {},
   "outputs": [],
   "source": [
    "import scipy.stats\n",
    "import matplotlib.pyplot as plt"
   ]
  },
  {
   "cell_type": "code",
   "execution_count": 8,
   "metadata": {},
   "outputs": [],
   "source": [
    "# 交差検証の分割数\n",
    "N_FOLDS = 5\n",
    "# 集計対象の列名\n",
    "AGG_COLUMNS = ['train_loss', 'train_accuracy',\n",
    "               'val_loss', 'val_accuracy', 'val_f1_macro']"
   ]
  },
  {
   "cell_type": "code",
   "execution_count": 9,
   "metadata": {},
   "outputs": [],
   "source": [
    "def clien(x, alpha=0.95):\n",
    "    \"\"\"\n",
    "    集計関数\n",
    "    \"\"\"\n",
    "    if len(x) <= 1:\n",
    "        return 0\n",
    "    m, e, df = np.mean(x), scipy.stats.sem(x), len(x) - 1\n",
    "    interval = scipy.stats.t.interval(alpha, df, loc=m, scale=e)\n",
    "    cilen = np.max(interval) - np.mean(interval)\n",
    "    return cilen"
   ]
  },
  {
   "cell_type": "code",
   "execution_count": 10,
   "metadata": {},
   "outputs": [],
   "source": [
    "# 5-fold交差検証の結果を読み込む\n",
    "df = pd.read_csv('{:d}fold_cv.csv'.format(N_FOLDS)\n",
    "                 ).loc[:, AGG_COLUMNS + ['step']]\n",
    "\n",
    "# ステップ数を横軸(x軸)として、結果を集計する\n",
    "g = df.groupby('step')\n",
    "x = g.apply(lambda x: x.name)\n",
    "# 平均を求める\n",
    "y = g.mean()\n",
    "# 平均の95%信頼区間を求める\n",
    "yci = g.agg(lambda x: clien(x, alpha=0.95))\n",
    "# 信頼区間の上側\n",
    "y_upper = y + yci\n",
    "# 信頼区間の下側\n",
    "y_lower = y - yci"
   ]
  },
  {
   "cell_type": "code",
   "execution_count": 11,
   "metadata": {},
   "outputs": [
    {
     "data": {
      "image/png": "[encoded data removed]",
      "text/plain": [
       "<Figure size 432x288 with 5 Axes>"
      ]
     },
     "metadata": {
      "needs_background": "light"
     },
     "output_type": "display_data"
    }
   ],
   "source": [
    "# グラフを描画する\n",
    "for i, column in enumerate(AGG_COLUMNS):\n",
    "    # グラフを3x2に分割して表示する\n",
    "    plt.subplot(3, 2, i+1)\n",
    "    plt.subplots_adjust(hspace=0.6, wspace=0.3)\n",
    "    # 平均の信頼区間を描画\n",
    "    plt.fill_between(\n",
    "        x, y2=y_lower.loc[:, column].values, y1=y_upper.loc[:, column].values, alpha=0.2)\n",
    "    # 平均を描画\n",
    "    plt.plot(x, y.loc[:, column])\n",
    "    # 縦軸の目盛りを調整\n",
    "    if 'loss' in column:\n",
    "        plt.ylim([0, 1])\n",
    "    else:\n",
    "        plt.ylim([0.8, 1.0])\n",
    "    # グラフごとにタイトルを設定\n",
    "    plt.title(column)\n",
    "# グラフ全体のタイトルを設定\n",
    "plt.suptitle(r'Confidence interval, $\\alpha=0.95$', y=0.99)\n",
    "plt.show()"
   ]
  }
 ],
 "metadata": {
  "interpreter": {
   "hash": "f5bb542c5f8ffcfc7fda68624d38253a8d24c155b1e912518077c095286d0bbc"
  },
  "kernelspec": {
   "display_name": "Python 3.6.10 ('rebases')",
   "language": "python",
   "name": "python3"
  },
  "language_info": {
   "codemirror_mode": {
    "name": "ipython",
    "version": 3
   },
   "file_extension": ".py",
   "mimetype": "text/x-python",
   "name": "python",
   "nbconvert_exporter": "python",
   "pygments_lexer": "ipython3",
   "version": "3.6.10"
  },
  "orig_nbformat": 4
 },
 "nbformat": 4,
 "nbformat_minor": 2
}
