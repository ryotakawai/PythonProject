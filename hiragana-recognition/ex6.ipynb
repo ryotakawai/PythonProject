{
 "cells": [
  {
   "cell_type": "code",
   "execution_count": 1,
   "metadata": {},
   "outputs": [],
   "source": [
    "import numpy as np\n",
    "import tensorflow as tf\n",
    "from sklearn.metrics import accuracy_score, f1_score\n",
    "from ndllab.hiragana5 import HiraganaDataset\n",
    "from ndllab.augment1 import OverSampler\n",
    "from ndllab.net2 import network"
   ]
  },
  {
   "cell_type": "code",
   "execution_count": null,
   "metadata": {},
   "outputs": [],
   "source": [
    "#--------------------------------------------------------------------------------------------\n",
    "#  ・均衡なデータとなるように、実データを増減させる。\n",
    "# 　　データの数が不足しているカテゴリについて、新たにデータを収集・追加する\n",
    "# 　　カテゴリあたりのデータ数を、少ないほうに合わせる (アンダーサンプリング)\n",
    "# 　　画像の複製や補間により、カテゴリあたりのデータ数を多いほうに合わせる (オーバーサンプリング)\n",
    "#  ・疑似データを利用して数を増やす\n",
    "# 　　画像増強を、少量データに対してより多く適用する\n",
    "# 　　データセット内の2種類の画像から生成した合成画像を、少量データに対してより多く作成する\n",
    "\n",
    "# 　不均衡データを扱うためのモジュール imbalanced-learn を用いて、\n",
    "# 　オーバーサンプリングによる改善ができるかどうか試す。\n",
    "#--------------------------------------------------------------------------------------------"
   ]
  },
  {
   "cell_type": "code",
   "execution_count": 2,
   "metadata": {},
   "outputs": [],
   "source": [
    "# パラメーター\n",
    "# バッチサイズ\n",
    "BATCH_SIZE = 32\n",
    "# 学習回数\n",
    "NUM_EPOCHS = 5\n",
    "NUM_STEPS = 1000\n",
    "# 学習中の出力頻度\n",
    "OUTPUT_BY_STEPS = 500\n",
    "# 学習率の初期値\n",
    "LEARNING_RATE = 1e-4\n",
    "#ドロップアウト率\n",
    "DROPOUT_PROB_1 = 0.5\n",
    "DROPOUT_PROB_2 = 0.5"
   ]
  },
  {
   "cell_type": "code",
   "execution_count": 3,
   "metadata": {},
   "outputs": [],
   "source": [
    "# 再現性の確保のために乱数シードを固定\n",
    "np.random.seed(12345)\n",
    "\n",
    "# 平仮名データセットのワンホット表現での読み込み\n",
    "dataset = HiraganaDataset(one_hot=True, validation_size=0.2)\n",
    "# トレーニングデータに対して、オーバーサンプリングを適用する\n",
    "train_sampler = OverSampler()\n",
    "trainset = train_sampler.resample_from_dataset(dataset.train)"
   ]
  },
  {
   "cell_type": "code",
   "execution_count": 4,
   "metadata": {},
   "outputs": [
    {
     "name": "stdout",
     "output_type": "stream",
     "text": [
      "WARNING:tensorflow:From c:\\Users\\210450279\\Anaconda3\\src\\hiragana-recognition\\ndllab\\net2.py:20: The name tf.truncated_normal is deprecated. Please use tf.random.truncated_normal instead.\n",
      "\n",
      "WARNING:tensorflow:From c:\\Users\\210450279\\Anaconda3\\src\\hiragana-recognition\\ndllab\\net2.py:32: The name tf.nn.max_pool is deprecated. Please use tf.nn.max_pool2d instead.\n",
      "\n",
      "WARNING:tensorflow:From c:\\Users\\210450279\\Anaconda3\\src\\hiragana-recognition\\ndllab\\net2.py:4: calling dropout (from tensorflow.python.ops.nn_ops) with keep_prob is deprecated and will be removed in a future version.\n",
      "Instructions for updating:\n",
      "Please use `rate` instead of `keep_prob`. Rate should be set to `rate = 1 - keep_prob`.\n"
     ]
    }
   ],
   "source": [
    "# グラフの定義\n",
    "g = tf.Graph()\n",
    "with g.as_default():\n",
    "    # 再現性の確保のために乱数シードを固定（数値は何でもよい）\n",
    "    tf.set_random_seed(12345)\n",
    "    # 入力\n",
    "    x = tf.placeholder(tf.float32, name='images', shape=(None, 48, 48, 3))\n",
    "    p_1 = tf.placeholder(tf.float32, name='p_1')\n",
    "    p_2 = tf.placeholder(tf.float32, name='p_2')\n",
    "    labels = tf.placeholder(tf.float32, name='labels', shape=(None, dataset.n_classes))\n",
    "    \n",
    "    # 出力 (softmax)\n",
    "    y = network(x, p_1, p_2)\n",
    "\n",
    "    # 損失関数（交差エントロピー）と最適化処理（Adam）\n",
    "    loss = -tf.reduce_sum(labels * tf.log(y + 1e-9)) / tf.cast(tf.shape(y)[0], tf.float32)\n",
    "\n",
    "    # 1エポックごとに学習率を小さくする\n",
    "    global_step = tf.Variable(0, trainable=False)\n",
    "    learning_rate = tf.train.exponential_decay(\n",
    "        learning_rate=LEARNING_RATE, decay_rate=0.5, decay_steps=NUM_STEPS, global_step=global_step)\n",
    "    optimizer = tf.train.AdamOptimizer(learning_rate).minimize(loss)\n",
    "    \n",
    "    # 精度検証 (Top-1 accuracy)\n",
    "    prediction_match = tf.equal(tf.argmax(y, axis=1), tf.argmax(labels, axis=1))\n",
    "    accuracy = tf.reduce_mean(tf.cast(prediction_match, tf.float32), name='accuracy')"
   ]
  },
  {
   "cell_type": "code",
   "execution_count": 5,
   "metadata": {},
   "outputs": [
    {
     "name": "stdout",
     "output_type": "stream",
     "text": [
      "epoch 0, step 0, loss 4.29, accuracy 0.12, val_loss 4.29, val_accuracy 0.01 val_f1 0.00\n",
      "epoch 0, step 500, loss 2.59, accuracy 0.31, val_loss 2.55, val_accuracy 0.43 val_f1 0.36\n",
      "epoch 1, step 1000, loss 1.05, accuracy 0.78, val_loss 0.99, val_accuracy 0.78 val_f1 0.75\n",
      "epoch 1, step 1500, loss 0.58, accuracy 0.81, val_loss 0.63, val_accuracy 0.86 val_f1 0.82\n",
      "epoch 2, step 2000, loss 0.74, accuracy 0.88, val_loss 0.49, val_accuracy 0.89 val_f1 0.85\n",
      "epoch 2, step 2500, loss 0.37, accuracy 0.94, val_loss 0.40, val_accuracy 0.91 val_f1 0.87\n",
      "WARNING:tensorflow:From C:\\Users\\210450279\\Anaconda3\\envs\\rebases\\lib\\site-packages\\tensorflow_core\\python\\training\\saver.py:963: remove_checkpoint (from tensorflow.python.training.checkpoint_management) is deprecated and will be removed in a future version.\n",
      "Instructions for updating:\n",
      "Use standard file APIs to delete files with this prefix.\n",
      "epoch 3, step 3000, loss 0.59, accuracy 0.84, val_loss 0.34, val_accuracy 0.91 val_f1 0.87\n",
      "epoch 3, step 3500, loss 0.29, accuracy 0.94, val_loss 0.30, val_accuracy 0.93 val_f1 0.90\n",
      "epoch 4, step 4000, loss 0.36, accuracy 0.81, val_loss 0.27, val_accuracy 0.93 val_f1 0.89\n",
      "epoch 4, step 4500, loss 0.39, accuracy 0.81, val_loss 0.24, val_accuracy 0.94 val_f1 0.91\n"
     ]
    }
   ],
   "source": [
    "# セッション\n",
    "with tf.Session(graph=g) as sess:\n",
    "    sess.run(tf.global_variables_initializer())\n",
    "    dropout_prob = {p_1: DROPOUT_PROB_1, p_2: DROPOUT_PROB_2}\n",
    "\n",
    "    saver = tf.train.Saver()\n",
    "    step = 0\n",
    "\n",
    "    # データセット全体を NUM_EPOCHS 回学習する\n",
    "    for epoch in range(NUM_EPOCHS):\n",
    "        batch_iter = trainset.next_batch(BATCH_SIZE)\n",
    "\n",
    "        # イテレータを NUM_STEPS 回呼び出す\n",
    "        for _ in range(NUM_STEPS):\n",
    "            batch = next(batch_iter)\n",
    "            # 正規化\n",
    "            normalized_batch = batch[0] / 255.0\n",
    "            # バッチ学習\n",
    "            optimizer.run(feed_dict={x: normalized_batch, labels: batch[1], **dropout_prob})\n",
    "            \n",
    "            # コンソールへの出力\n",
    "            if step % OUTPUT_BY_STEPS == 0:\n",
    "                train_loss, train_accuracy = sess.run([loss, accuracy], \n",
    "                    feed_dict={x: normalized_batch, labels: batch[1], p_1: 1.0, p_2: 1.0})\n",
    "                \n",
    "                val_images, val_labels = dataset.val.images / 255.0, dataset.val.labels\n",
    "                val_loss, val_y = sess.run([loss, y],\n",
    "                    feed_dict={x: val_images, labels: val_labels, p_1: 1.0, p_2: 1.0})\n",
    "\n",
    "                y_pred = np.argmax(val_y, axis=1)\n",
    "                y_true = np.argmax(dataset.val.labels, axis=1)\n",
    "                val_accuracy = accuracy_score(y_true=y_true, y_pred=y_pred)\n",
    "                val_f1_macro = f1_score(y_true=y_true, y_pred=y_pred, average='macro')\n",
    "                print('epoch {:d}, step {:d}, loss {:.2f}, accuracy {:.2f}, val_loss {:.2f}, val_accuracy {:.2f} val_f1 {:.2f}'.format(\n",
    "                    epoch, step, train_loss, train_accuracy, val_loss, val_accuracy, val_f1_macro))\n",
    "            \n",
    "                # 過程の保存\n",
    "                saver.save(sess, 'models/hiragana2', global_step=step)\n",
    "                \n",
    "            # ステップ数を更新\n",
    "            step += 1\n",
    "    \n",
    "    # 最終結果の保存\n",
    "    saver.save(sess, 'models/hiragana2')"
   ]
  },
  {
   "cell_type": "code",
   "execution_count": 6,
   "metadata": {},
   "outputs": [
    {
     "name": "stdout",
     "output_type": "stream",
     "text": [
      "INFO:tensorflow:Restoring parameters from models/hiragana2\n",
      "test accuracy 0.94\n",
      "char: ぺ, acc: 0.132075, correct: 07 of 53\n",
      "char: ぽ, acc: 0.180000, correct: 09 of 50\n",
      "char: ば, acc: 0.493023, correct: 106 of 215\n",
      "char: ぼ, acc: 0.602871, correct: 126 of 209\n",
      "char: ぷ, acc: 0.615385, correct: 16 of 26\n",
      "char: び, acc: 0.670051, correct: 132 of 197\n",
      "char: ぱ, acc: 0.734375, correct: 47 of 64\n",
      "char: ぴ, acc: 0.761905, correct: 16 of 21\n",
      "char: ぶ, acc: 0.797468, correct: 189 of 237\n",
      "char: ず, acc: 0.852381, correct: 179 of 210\n",
      "char: げ, acc: 0.878505, correct: 188 of 214\n",
      "char: る, acc: 0.898734, correct: 213 of 237\n",
      "char: は, acc: 0.905923, correct: 260 of 287\n",
      "char: あ, acc: 0.913386, correct: 232 of 254\n",
      "char: て, acc: 0.924444, correct: 208 of 225\n"
     ]
    },
    {
     "data": {
      "image/png": "[encoded data removed]",
      "text/plain": [
       "<Figure size 288x288 with 2 Axes>"
      ]
     },
     "metadata": {
      "needs_background": "light"
     },
     "output_type": "display_data"
    }
   ],
   "source": [
    "import itertools\n",
    "from sklearn.metrics import confusion_matrix\n",
    "import matplotlib.pyplot as plt\n",
    "import matplotlib.cm as cm\n",
    "\n",
    "# モデルを指定\n",
    "model_name = \"models/hiragana2\"\n",
    "\n",
    "# データフローグラフからプレースホルダーと精度測定処理ノードを取得\n",
    "g = tf.Graph()\n",
    "with g.as_default():\n",
    "    # モデルの読み込み\n",
    "    saver = tf.train.import_meta_graph('{}.meta'.format(model_name))\n",
    "\n",
    "    x = g.get_tensor_by_name('images:0')\n",
    "    labels = g.get_tensor_by_name('labels:0')\n",
    "    p_1 = g.get_tensor_by_name('p_1:0')\n",
    "    p_2 = g.get_tensor_by_name('p_2:0')\n",
    "    y = g.get_tensor_by_name('y:0')\n",
    "    accuracy = g.get_tensor_by_name('accuracy:0')\n",
    "\n",
    "# 平仮名データセットのワンホット表現での読み込み\n",
    "dataset = HiraganaDataset(one_hot=True, validation_size=0.2)\n",
    "\n",
    "with tf.Session(graph=g) as sess:\n",
    "    # 変数初期化\n",
    "    sess.run(tf.global_variables_initializer())\n",
    "\n",
    "    # モデル読み込み\n",
    "    saver.restore(sess, model_name)\n",
    "\n",
    "    # テストデータによる精度検証\n",
    "    test_y, test_accuracy = sess.run([y, accuracy], \n",
    "        feed_dict={x: dataset.test.images, labels: dataset.test.labels, p_1: 1.0, p_2: 1.0})\n",
    "    print('test accuracy {:.2f}'.format(test_accuracy))\n",
    "    \n",
    "    # 混同行列を作成\n",
    "    y_true = np.argmax(dataset.test.labels, axis=1)\n",
    "    y_pred = np.argmax(test_y, axis=1)\n",
    "    test_confusion_matrix = confusion_matrix(y_true, y_pred)\n",
    "\n",
    "    # クラスごとの要素数で割ることで、クラスごとの精度を計算する\n",
    "    normalized_cm = test_confusion_matrix.astype(np.float32) / test_confusion_matrix.sum(axis=1)\n",
    "    worst_index = np.argsort(normalized_cm.diagonal())\n",
    "\n",
    "    # ラベルごとの精度、ラベル名、正解数、全数を取得\n",
    "    worst_accuracy = normalized_cm.diagonal()[worst_index]\n",
    "    worst_character = [dataset.get_character(i) for i in worst_index]\n",
    "    worst_count = test_confusion_matrix.diagonal()[worst_index]\n",
    "    worst_size = test_confusion_matrix.sum(axis=1)[worst_index]\n",
    "\n",
    "    # 下位10ラベルを表示\n",
    "    for accuracy, character, count, size in itertools.islice(\n",
    "        zip(worst_accuracy.tolist(), worst_character, worst_count.tolist(), worst_size.tolist()), 15):\n",
    "        print('char: {}, acc: {:04f}, correct: {:02d} of {:02d}'.format(\n",
    "            character, accuracy, count, size))\n",
    "    \n",
    "    # 混同行列を表示\n",
    "    plt.matshow(normalized_cm, cmap=cm.bwr)\n",
    "    plt.colorbar()"
   ]
  }
 ],
 "metadata": {
  "interpreter": {
   "hash": "f5bb542c5f8ffcfc7fda68624d38253a8d24c155b1e912518077c095286d0bbc"
  },
  "kernelspec": {
   "display_name": "Python 3.6.10 ('rebases')",
   "language": "python",
   "name": "python3"
  },
  "language_info": {
   "codemirror_mode": {
    "name": "ipython",
    "version": 3
   },
   "file_extension": ".py",
   "mimetype": "text/x-python",
   "name": "python",
   "nbconvert_exporter": "python",
   "pygments_lexer": "ipython3",
   "version": "3.6.10"
  },
  "orig_nbformat": 4
 },
 "nbformat": 4,
 "nbformat_minor": 2
}
