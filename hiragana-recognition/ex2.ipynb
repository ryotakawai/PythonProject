{
 "cells": [
  {
   "cell_type": "code",
   "execution_count": null,
   "metadata": {},
   "outputs": [],
   "source": [
    "#-------------------------------------------------------------------------------\n",
    "#  データセットクラスの設計　//データセットをPythonから利用できる仕組みを構築\n",
    "# データセットをPythonから利用するには、以下のような方法がある。\n",
    "# ・データセット用のAPIを自作する\n",
    "# ・tf.data を通してデータセットを扱う\n",
    "#-------------------------------------------------------------------------------"
   ]
  },
  {
   "cell_type": "code",
   "execution_count": 2,
   "metadata": {},
   "outputs": [],
   "source": [
    "# 画像の読み込み\n",
    "\n",
    "from PIL import Image\n",
    "from ndllab.hiragana1 import Dataset, load_data\n",
    "\n",
    "# データセット作成\n",
    "images = load_data(dataset_root=\"./hiragana73\", csv_file=\"hiragana73_test.csv\")\n",
    "testset = Dataset(images, None)\n",
    "\n",
    "# 1000枚飛ばしで画像を10枚表示\n",
    "canvas = Image.new('RGB', (480, 48))\n",
    "for i in range(10):\n",
    "    canvas.paste(testset.images[i*1000], (i*48, 0))\n",
    "# 画像を表示\n",
    "canvas.show()"
   ]
  }
 ],
 "metadata": {
  "interpreter": {
   "hash": "f5bb542c5f8ffcfc7fda68624d38253a8d24c155b1e912518077c095286d0bbc"
  },
  "kernelspec": {
   "display_name": "Python 3.6.10 ('rebases')",
   "language": "python",
   "name": "python3"
  },
  "language_info": {
   "codemirror_mode": {
    "name": "ipython",
    "version": 3
   },
   "file_extension": ".py",
   "mimetype": "text/x-python",
   "name": "python",
   "nbconvert_exporter": "python",
   "pygments_lexer": "ipython3",
   "version": "3.6.10"
  },
  "orig_nbformat": 4
 },
 "nbformat": 4,
 "nbformat_minor": 2
}
