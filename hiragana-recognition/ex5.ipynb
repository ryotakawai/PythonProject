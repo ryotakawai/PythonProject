{
 "cells": [
  {
   "cell_type": "code",
   "execution_count": 1,
   "metadata": {},
   "outputs": [],
   "source": [
    "import numpy as np\n",
    "import tensorflow as tf\n",
    "from ndllab.hiragana4 import HiraganaDataset\n",
    "from ndllab.net1 import network"
   ]
  },
  {
   "cell_type": "code",
   "execution_count": 2,
   "metadata": {},
   "outputs": [],
   "source": [
    "# -----------------------------------------------------------------------------------------\n",
    "# バッチ学習において、学習回数は一般的に エポック(epoch) と ステップ(step) に分けて定義する。\n",
    "# エポックは、トレーニングセット1回分の反復を表す。\n",
    "# ステップは1エポック中にバッチ学習を行う回数で、その最大値は次の式で決まる値である。\n",
    "# 　　　　ステップ数の最大値=floor(トレーニング画像数/バッチサイズ)\n",
    "# -----------------------------------------------------------------------------------------"
   ]
  },
  {
   "cell_type": "code",
   "execution_count": 3,
   "metadata": {},
   "outputs": [],
   "source": [
    "# パラメーター\n",
    "# バッチサイズ\n",
    "BATCH_SIZE = 32\n",
    "# 学習回数\n",
    "NUM_EPOCHS = 5\n",
    "NUM_STEPS = 1000\n",
    "# 学習中の出力頻度\n",
    "OUTPUT_BY_STEPS = 500\n",
    "# 学習率の初期値\n",
    "LEARNING_RATE = 1e-4\n",
    "#ドロップアウト率\n",
    "DROPOUT_PROB_1 = 0.5\n",
    "DROPOUT_PROB_2 = 0.5"
   ]
  },
  {
   "cell_type": "code",
   "execution_count": 4,
   "metadata": {},
   "outputs": [],
   "source": [
    "# 再現性の確保のために乱数シードを固定\n",
    "np.random.seed(12345)\n",
    "\n",
    "# 平仮名データセットのワンホット表現での読み込み\n",
    "dataset = HiraganaDataset(one_hot=True, validation_size=0.2)"
   ]
  },
  {
   "cell_type": "code",
   "execution_count": 5,
   "metadata": {},
   "outputs": [
    {
     "name": "stdout",
     "output_type": "stream",
     "text": [
      "WARNING:tensorflow:From c:\\Users\\210450279\\Anaconda3\\src\\hiragana-recognition\\ndllab\\net.py:28: The name tf.truncated_normal is deprecated. Please use tf.random.truncated_normal instead.\n",
      "\n",
      "WARNING:tensorflow:From c:\\Users\\210450279\\Anaconda3\\src\\hiragana-recognition\\ndllab\\net.py:40: The name tf.nn.max_pool is deprecated. Please use tf.nn.max_pool2d instead.\n",
      "\n",
      "WARNING:tensorflow:From c:\\Users\\210450279\\Anaconda3\\src\\hiragana-recognition\\ndllab\\net.py:4: calling dropout (from tensorflow.python.ops.nn_ops) with keep_prob is deprecated and will be removed in a future version.\n",
      "Instructions for updating:\n",
      "Please use `rate` instead of `keep_prob`. Rate should be set to `rate = 1 - keep_prob`.\n"
     ]
    }
   ],
   "source": [
    "# グラフの定義：1つのネットワークモデルを表す。\n",
    "# プログラム中で異なるネットワークモデルを複数利用するなら、グラフをその数だけ作成する。\n",
    "g = tf.Graph()\n",
    "with g.as_default():\n",
    "    # 再現性の確保のために乱数シードを固定（数値は何でもよい）\n",
    "    tf.set_random_seed(12345)\n",
    "    # 入力\n",
    "    x = tf.placeholder(tf.float32, name='images', shape=(None, 48, 48, 3))\n",
    "    p_1 = tf.placeholder(tf.float32, name='p_1')\n",
    "    p_2 = tf.placeholder(tf.float32, name='p_2')\n",
    "    labels = tf.placeholder(tf.float32, name='labels', shape=(None, dataset.n_classes))\n",
    "    \n",
    "    # 出力 (softmax)\n",
    "    y = network(x, p_1, p_2)\n",
    "\n",
    "    # 損失関数（交差エントロピー）と最適化処理（Adam）\n",
    "    # log の項には計算上の問題を回避するため、正の小さな値1e-9を用いている。\n",
    "    loss = -tf.reduce_sum(labels * tf.log(y + 1e-9)) / tf.cast(tf.shape(y)[0], tf.float32)\n",
    "\n",
    "    # 1エポックごとに学習率を小さくする\n",
    "    # 通常学習率はトレーニングが進むにつれて、指数減衰や段階的な減衰(step decay)により徐々に減らしていく。\n",
    "    # トレーニング開始時は重みやバイアスが大きく更新され、トレーニングが進むと更新量が小さくなっていく。\n",
    "    # このように更新することで、トレーニングが効率よく進むことが期待できる。\n",
    "    global_step = tf.Variable(0, trainable=False)\n",
    "    learning_rate = tf.train.exponential_decay(\n",
    "        learning_rate=LEARNING_RATE, decay_rate=0.5, decay_steps=NUM_STEPS, global_step=global_step)\n",
    "    optimizer = tf.train.AdamOptimizer(learning_rate).minimize(loss)\n",
    "    \n",
    "    # 精度検証 (Top-1 accuracy)\n",
    "    prediction_match = tf.equal(tf.argmax(y, axis=1), tf.argmax(labels, axis=1))\n",
    "    accuracy = tf.reduce_mean(tf.cast(prediction_match, tf.float32), name='accuracy')"
   ]
  },
  {
   "cell_type": "code",
   "execution_count": 6,
   "metadata": {},
   "outputs": [
    {
     "name": "stdout",
     "output_type": "stream",
     "text": [
      "epoch 0, step 0, loss 4.29, accuracy 0.09, val_loss 4.29, val_accuracy 0.01\n",
      "epoch 0, step 500, loss 4.24, accuracy 0.00, val_loss 4.24, val_accuracy 0.03\n",
      "epoch 1, step 1000, loss 1.50, accuracy 0.78, val_loss 1.60, val_accuracy 0.68\n",
      "epoch 1, step 1500, loss 0.82, accuracy 0.84, val_loss 0.74, val_accuracy 0.84\n",
      "epoch 2, step 2000, loss 0.46, accuracy 0.91, val_loss 0.50, val_accuracy 0.88\n",
      "epoch 2, step 2500, loss 0.18, accuracy 1.00, val_loss 0.39, val_accuracy 0.92\n",
      "WARNING:tensorflow:From C:\\Users\\210450279\\Anaconda3\\envs\\rebases\\lib\\site-packages\\tensorflow_core\\python\\training\\saver.py:963: remove_checkpoint (from tensorflow.python.training.checkpoint_management) is deprecated and will be removed in a future version.\n",
      "Instructions for updating:\n",
      "Use standard file APIs to delete files with this prefix.\n",
      "epoch 3, step 3000, loss 0.36, accuracy 0.91, val_loss 0.32, val_accuracy 0.93\n",
      "epoch 3, step 3500, loss 0.26, accuracy 0.94, val_loss 0.28, val_accuracy 0.94\n",
      "epoch 4, step 4000, loss 0.18, accuracy 0.97, val_loss 0.25, val_accuracy 0.95\n",
      "epoch 4, step 4500, loss 0.13, accuracy 0.97, val_loss 0.23, val_accuracy 0.95\n"
     ]
    }
   ],
   "source": [
    "# セッション：グラフの実行単位 sess.run()とx.eval()を呼び出すことで実際の計算が行われる。\n",
    "with tf.Session(graph=g) as sess:\n",
    "    sess.run(tf.global_variables_initializer())\n",
    "    dropout_prob = {p_1: DROPOUT_PROB_1, p_2: DROPOUT_PROB_2}\n",
    "\n",
    "    saver = tf.train.Saver()\n",
    "    step = 0\n",
    "\n",
    "    # データセット全体を NUM_EPOCHS 回学習する\n",
    "    for epoch in range(NUM_EPOCHS):\n",
    "        batch_iter = dataset.train.next_batch(BATCH_SIZE)\n",
    "\n",
    "        # イテレータを NUM_STEPS 回呼び出す\n",
    "        for _ in range(NUM_STEPS):\n",
    "            batch = next(batch_iter)\n",
    "            # 正規化(0~1の範囲に収まる最大最小正規化)\n",
    "            normalized_batch = batch[0] / 255.0\n",
    "            # バッチ学習\n",
    "            optimizer.run(feed_dict={x: normalized_batch, labels: batch[1], **dropout_prob})\n",
    "            \n",
    "            # コンソールへの出力\n",
    "            if step % OUTPUT_BY_STEPS == 0:\n",
    "                train_loss, train_accuracy = sess.run([loss, accuracy], \n",
    "                    feed_dict={x: normalized_batch, labels: batch[1], p_1: 1.0, p_2: 1.0})\n",
    "                \n",
    "                val_images, val_labels = dataset.val.images / 255.0, dataset.val.labels\n",
    "                val_loss, val_accuracy = sess.run([loss, accuracy],\n",
    "                    feed_dict={x: val_images, labels: val_labels, p_1: 1.0, p_2: 1.0})\n",
    "                print('epoch {:d}, step {:d}, loss {:.2f}, accuracy {:.2f}, val_loss {:.2f}, val_accuracy {:.2f}'.format(\n",
    "                    epoch, step, train_loss, train_accuracy, val_loss, val_accuracy))\n",
    "            \n",
    "                # 過程の保存\n",
    "                saver.save(sess, 'models/hiragana', global_step=step)\n",
    "                \n",
    "            # ステップ数を更新\n",
    "            step += 1\n",
    "    \n",
    "    # 最終結果の保存\n",
    "    saver.save(sess, 'models/hiragana')"
   ]
  },
  {
   "cell_type": "code",
   "execution_count": 7,
   "metadata": {},
   "outputs": [
    {
     "name": "stdout",
     "output_type": "stream",
     "text": [
      "INFO:tensorflow:Restoring parameters from models/hiragana\n",
      "test accuracy 0.95\n",
      "char: ぴ, acc: 0.000000, correct: 00 of 21\n",
      "char: ぷ, acc: 0.000000, correct: 00 of 26\n",
      "char: ぺ, acc: 0.000000, correct: 00 of 53\n",
      "char: ぽ, acc: 0.020000, correct: 01 of 50\n",
      "char: ぱ, acc: 0.265625, correct: 17 of 64\n",
      "char: ば, acc: 0.855814, correct: 184 of 215\n",
      "char: ぼ, acc: 0.856459, correct: 179 of 209\n",
      "char: は, acc: 0.874564, correct: 251 of 287\n",
      "char: ざ, acc: 0.891753, correct: 173 of 194\n",
      "char: ず, acc: 0.895238, correct: 188 of 210\n",
      "char: て, acc: 0.920000, correct: 207 of 225\n",
      "char: る, acc: 0.928270, correct: 220 of 237\n",
      "char: な, acc: 0.932331, correct: 248 of 266\n",
      "char: げ, acc: 0.939252, correct: 201 of 214\n",
      "char: れ, acc: 0.944223, correct: 237 of 251\n"
     ]
    },
    {
     "data": {
      "image/png": "[encoded data removed]",
      "text/plain": [
       "<Figure size 288x288 with 2 Axes>"
      ]
     },
     "metadata": {
      "needs_background": "light"
     },
     "output_type": "display_data"
    }
   ],
   "source": [
    "import itertools\n",
    "from sklearn.metrics import confusion_matrix\n",
    "import matplotlib.pyplot as plt\n",
    "import matplotlib.cm as cm\n",
    "\n",
    "# 推論の実行\n",
    "\n",
    "# モデルを指定\n",
    "model_name = \"models/hiragana\"\n",
    "\n",
    "# データフローグラフからプレースホルダーと精度測定処理ノードを取得\n",
    "g = tf.Graph()\n",
    "with g.as_default():\n",
    "    # モデルの読み込み\n",
    "    saver = tf.train.import_meta_graph('{}.meta'.format(model_name))\n",
    "\n",
    "    x = g.get_tensor_by_name('images:0')\n",
    "    labels = g.get_tensor_by_name('labels:0')\n",
    "    p_1 = g.get_tensor_by_name('p_1:0')\n",
    "    p_2 = g.get_tensor_by_name('p_2:0')\n",
    "    y = g.get_tensor_by_name('y:0')\n",
    "    accuracy = g.get_tensor_by_name('accuracy:0')\n",
    "\n",
    "# 平仮名データセットのワンホット表現での読み込み\n",
    "dataset = HiraganaDataset(one_hot=True, validation_size=0.2)\n",
    "\n",
    "with tf.Session(graph=g) as sess:\n",
    "    # 変数初期化\n",
    "    sess.run(tf.global_variables_initializer())\n",
    "\n",
    "    # モデル読み込み\n",
    "    saver.restore(sess, model_name)\n",
    "\n",
    "    # テストデータによる精度検証\n",
    "    test_y, test_accuracy = sess.run([y, accuracy], \n",
    "        feed_dict={x: dataset.test.images, labels: dataset.test.labels, p_1: 1.0, p_2: 1.0})\n",
    "    print('test accuracy {:.2f}'.format(test_accuracy))\n",
    "    \n",
    "    # 混同行列を作成\n",
    "    y_true = np.argmax(dataset.test.labels, axis=1)\n",
    "    y_pred = np.argmax(test_y, axis=1)\n",
    "    test_confusion_matrix = confusion_matrix(y_true, y_pred)\n",
    "\n",
    "    # クラスごとの要素数で割ることで、クラスごとの精度を計算する\n",
    "    normalized_cm = test_confusion_matrix.astype(np.float32) / test_confusion_matrix.sum(axis=1)\n",
    "    worst_index = np.argsort(normalized_cm.diagonal())\n",
    "\n",
    "    # ラベルごとの精度、ラベル名、正解数、全数を取得\n",
    "    worst_accuracy = normalized_cm.diagonal()[worst_index]\n",
    "    worst_character = [dataset.get_character(i) for i in worst_index]\n",
    "    worst_count = test_confusion_matrix.diagonal()[worst_index]\n",
    "    worst_size = test_confusion_matrix.sum(axis=1)[worst_index]\n",
    "\n",
    "    # 下位15ラベルを表示：ラベルのうち分類頻度が低い15個を精度とともに表示\n",
    "    for accuracy, character, count, size in itertools.islice(\n",
    "        zip(worst_accuracy.tolist(), worst_character, worst_count.tolist(), worst_size.tolist()), 15):\n",
    "        print('char: {}, acc: {:04f}, correct: {:02d} of {:02d}'.format(\n",
    "            character, accuracy, count, size))\n",
    "    \n",
    "    # 混同行列を表示\n",
    "    plt.matshow(normalized_cm, cmap=cm.bwr)\n",
    "    plt.colorbar()"
   ]
  }
 ],
 "metadata": {
  "interpreter": {
   "hash": "f5bb542c5f8ffcfc7fda68624d38253a8d24c155b1e912518077c095286d0bbc"
  },
  "kernelspec": {
   "display_name": "Python 3.6.10 ('rebases')",
   "language": "python",
   "name": "python3"
  },
  "language_info": {
   "codemirror_mode": {
    "name": "ipython",
    "version": 3
   },
   "file_extension": ".py",
   "mimetype": "text/x-python",
   "name": "python",
   "nbconvert_exporter": "python",
   "pygments_lexer": "ipython3",
   "version": "3.6.10"
  },
  "orig_nbformat": 4
 },
 "nbformat": 4,
 "nbformat_minor": 2
}
