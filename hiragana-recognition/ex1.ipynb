{
 "cells": [
  {
   "cell_type": "code",
   "execution_count": 1,
   "metadata": {},
   "outputs": [],
   "source": [
    "import os\n",
    "import csv\n",
    "import pandas as pd\n",
    "from pathlib import Path\n",
    "from sklearn.model_selection import train_test_split"
   ]
  },
  {
   "cell_type": "code",
   "execution_count": 2,
   "metadata": {},
   "outputs": [],
   "source": [
    "# 　hiragana-recognition\n",
    "# 　│  └─hiragana73\n",
    "# 　│     ├─U304A\n",
    "# 　│     ├─U304B\n",
    "# 　│     ├─...\n",
    "# 　│     └─U3093\n",
    "# 　├─ex1.ipynb\n",
    "# 　├─hiragana73.csv\n",
    "# 　└─README.md"
   ]
  },
  {
   "cell_type": "code",
   "execution_count": 2,
   "metadata": {},
   "outputs": [],
   "source": [
    "# データセットに含まれる全画像の一覧を作成\n",
    "\n",
    "records = []\n",
    "root = Path(os.getcwd() + '/hiragana73')\n",
    "for dirpath in root.iterdir():\n",
    "    for filepath in dirpath.iterdir():\n",
    "        record = {\n",
    "            # 各列を定義\n",
    "            'hexcode': dirpath.name,\n",
    "            'character': chr(int(dirpath.name[1:], 16)),   # U3042の先頭の\"U\"は文字コードではないので2文字目name[1:]から。\n",
    "            'filename': filepath.name\n",
    "        }\n",
    "        records.append(record)\n",
    "\n",
    "df = pd.DataFrame(records)\n",
    "df.sort_values(['hexcode', 'filename']).to_csv(\n",
    "    'hiragana73.csv', \n",
    "    columns=['hexcode', 'character', 'filename'], \n",
    "    index=False,  # インデックスは入れない\n",
    "    quoting=csv.QUOTE_NONNUMERIC\n",
    "    )"
   ]
  },
  {
   "cell_type": "code",
   "execution_count": 3,
   "metadata": {},
   "outputs": [
    {
     "name": "stdout",
     "output_type": "stream",
     "text": [
      "[25048 18778 62385 ... 36408 53746 71745]\n"
     ]
    }
   ],
   "source": [
    "# データセットの全画像をトレーニングセットとテストセットに分割する\n",
    "\n",
    "df = pd.read_csv('hiragana73.csv')\n",
    "# データの構成比を4:1とする\n",
    "train, test = train_test_split(\n",
    "    df.index.values, test_size=0.2, random_state=123456)\n",
    "\n",
    "print(train)\n",
    "\n",
    "# 分割後のトレーニングセットを入れる\n",
    "df.iloc[train, :].sort_values(['hexcode', 'filename']).to_csv(\n",
    "    'hiragana73_train.csv', \n",
    "    columns=['hexcode', 'character', 'filename'], \n",
    "    index=False, \n",
    "    quoting=csv.QUOTE_NONNUMERIC\n",
    "    )\n",
    "\n",
    "# 分割後のテストセットを入れる\n",
    "df.iloc[test, :].sort_values(['hexcode', 'filename']).to_csv(\n",
    "    'hiragana73_test.csv', \n",
    "    columns=['hexcode', 'character', 'filename'], \n",
    "    index=False, \n",
    "    quoting=csv.QUOTE_NONNUMERIC\n",
    "    )"
   ]
  }
 ],
 "metadata": {
  "interpreter": {
   "hash": "96ccf6b37a53f7eb915d5a1e4d1562568c3782c6073f160abf62add537b14a18"
  },
  "kernelspec": {
   "display_name": "Python 3.6.13 ('rebase')",
   "language": "python",
   "name": "python3"
  },
  "language_info": {
   "codemirror_mode": {
    "name": "ipython",
    "version": 3
   },
   "file_extension": ".py",
   "mimetype": "text/x-python",
   "name": "python",
   "nbconvert_exporter": "python",
   "pygments_lexer": "ipython3",
   "version": "3.6.10"
  },
  "orig_nbformat": 4
 },
 "nbformat": 4,
 "nbformat_minor": 2
}
