{
 "cells": [
  {
   "cell_type": "code",
   "execution_count": 7,
   "metadata": {},
   "outputs": [],
   "source": [
    "import tensorflow as tf\n",
    "\n",
    "sess = tf.InteractiveSession()"
   ]
  },
  {
   "cell_type": "code",
   "execution_count": 1,
   "metadata": {},
   "outputs": [
    {
     "name": "stdout",
     "output_type": "stream",
     "text": [
      "Successfully downloaded train-images-idx3-ubyte.gz 9912422 bytes.\n",
      "Extracting MNIST_data/train-images-idx3-ubyte.gz\n",
      "Successfully downloaded train-labels-idx1-ubyte.gz 28881 bytes.\n",
      "Extracting MNIST_data/train-labels-idx1-ubyte.gz\n",
      "Successfully downloaded t10k-images-idx3-ubyte.gz 1648877 bytes.\n",
      "Extracting MNIST_data/t10k-images-idx3-ubyte.gz\n",
      "Successfully downloaded t10k-labels-idx1-ubyte.gz 4542 bytes.\n",
      "Extracting MNIST_data/t10k-labels-idx1-ubyte.gz\n"
     ]
    }
   ],
   "source": [
    "\"\"\"\n",
    "MNISTでは以下の四種類のファイルが配布されており、\n",
    "TensorFlowにもチュートリアルとして、データを読み込む関数が予め用意されている。\n",
    "train-images-idx3-ubyte.gz  訓練画像データ     60,000個\n",
    "train-labels-idx1-ubyte.gz  訓練ラベルデータ   60,000個\n",
    "t10k-images-idx3-ubyte.gz   テスト画像データ   10,000個\n",
    "t10k-labels-idx1-ubyte.gz   テストラベルデータ 10,000個\n",
    "\n",
    "さらに60,000個の訓練データは、\n",
    "55,000個の訓練データmnist.trainと\n",
    "5,000個の精度検証データmnist.validationに\n",
    "分割することをよく行う(今回は分割しない)\n",
    "\n",
    "mnist.XXX.imagesには、MNISTの数字画像データ(テンソル)が含まれている。\n",
    "テンソルのサイズは、データ数×784の行列形式で、\n",
    "例えば、mnist.train.imagesは55,000×784のサイズである。\n",
    "784は28×28で、2次元のピクセルデータが1次元に直列配置されている。\n",
    "\"\"\"\n",
    "\n",
    "from tensorflow.examples.tutorials.mnist import input_data\n",
    "\n",
    "# MNIST_dataディレクトリにMNISTデータをダウンロードして読み込む\n",
    "# MNIST_dataディレクトリはカレントディレクトリ(2022_02_02)に配置\n",
    "mnist = input_data.read_data_sets('MNIST_data/')"
   ]
  },
  {
   "cell_type": "code",
   "execution_count": 8,
   "metadata": {},
   "outputs": [],
   "source": [
    "# 画像データを扱うためのpillowパッケージを導入する\n",
    "from PIL import Image"
   ]
  },
  {
   "cell_type": "code",
   "execution_count": 9,
   "metadata": {},
   "outputs": [],
   "source": [
    "# 1枚目を28×28ピクセルの行列に変換\n",
    "image_matrix = tf.reshape(mnist.train.images[0], [28, 28])\n",
    "# 画像を8ビット整数値行列に変換する\n",
    "image_matrix_uint8 = tf.cast(255 * image_matrix, tf.uint8)"
   ]
  },
  {
   "cell_type": "code",
   "execution_count": 10,
   "metadata": {},
   "outputs": [
    {
     "name": "stdout",
     "output_type": "stream",
     "text": [
      "7\n"
     ]
    },
    {
     "data": {
      "image/png": "[encoded data removed]",
      "text/plain": [
       "<PIL.Image.Image image mode=L size=28x28 at 0x28811446390>"
      ]
     },
     "execution_count": 10,
     "metadata": {},
     "output_type": "execute_result"
    }
   ],
   "source": [
    "# ラベルの表示\n",
    "print(mnist.train.labels[0])\n",
    "# グレースケール画像データの作成\n",
    "Image.fromarray(image_matrix_uint8.eval(), 'L')\n",
    "\n",
    "# 下の実行結果は、1つ目の訓練データのラベルと画像である。"
   ]
  }
 ],
 "metadata": {
  "interpreter": {
   "hash": "a1c8c699d14e3903dc5150bb4eeb93a885371f7e5db0b28d0ec5cc4eff72bd11"
  },
  "kernelspec": {
   "display_name": "Python 3.6.13 64-bit ('introtensorflow': conda)",
   "language": "python",
   "name": "python3"
  },
  "language_info": {
   "codemirror_mode": {
    "name": "ipython",
    "version": 3
   },
   "file_extension": ".py",
   "mimetype": "text/x-python",
   "name": "python",
   "nbconvert_exporter": "python",
   "pygments_lexer": "ipython3",
   "version": "3.6.13"
  },
  "orig_nbformat": 4
 },
 "nbformat": 4,
 "nbformat_minor": 2
}
