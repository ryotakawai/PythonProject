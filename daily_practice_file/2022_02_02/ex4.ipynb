{
 "cells": [
  {
   "cell_type": "code",
   "execution_count": 1,
   "metadata": {},
   "outputs": [],
   "source": [
    "import tensorflow as tf\n",
    "from tensorflow.examples.tutorials.mnist import input_data"
   ]
  },
  {
   "cell_type": "code",
   "execution_count": 2,
   "metadata": {},
   "outputs": [
    {
     "name": "stdout",
     "output_type": "stream",
     "text": [
      "Extracting MNIST_data2/train-images-idx3-ubyte.gz\n",
      "Extracting MNIST_data2/train-labels-idx1-ubyte.gz\n",
      "Extracting MNIST_data2/t10k-images-idx3-ubyte.gz\n",
      "Extracting MNIST_data2/t10k-labels-idx1-ubyte.gz\n"
     ]
    }
   ],
   "source": [
    "# 入力データ\n",
    "# MNISTのone-hot表現での読み込み\n",
    "mnist = input_data.read_data_sets(\"MNIST_data2/\", one_hot=True)"
   ]
  },
  {
   "cell_type": "code",
   "execution_count": 3,
   "metadata": {},
   "outputs": [],
   "source": [
    "# モデルの読み込み\n",
    "# メタデータは tf.train.import_meta_graph() で読み込むことができる。\n",
    "saver = tf.train.import_meta_graph('models/my-model.meta')"
   ]
  },
  {
   "cell_type": "code",
   "execution_count": 4,
   "metadata": {},
   "outputs": [],
   "source": [
    "\"\"\"\n",
    "データフローグラフからプレースホルダーと精度測定処理ノードを取得\n",
    "メタデータのままではプレースホルダーなどのテンソルをPython変数として利用できない。\n",
    "以下の処理でデータフローグラフから名前付きテンソルを取得している。\n",
    "一部のテンソルに、\n",
    "x = tf.placeholder(tf.float32, name='x')\n",
    "のようにnameをつけたのはこのためである。\n",
    "名前の後ろの「:0」は決まり文句のようなものである。\n",
    "\"\"\"\n",
    "graph = tf.get_default_graph()\n",
    "x = graph.get_tensor_by_name('x:0')\n",
    "labels = graph.get_tensor_by_name('labels:0')\n",
    "p_1 = graph.get_tensor_by_name('p_1:0')\n",
    "p_2 = graph.get_tensor_by_name('p_2:0')\n",
    "accuracy = graph.get_tensor_by_name('accuracy:0')"
   ]
  },
  {
   "cell_type": "code",
   "execution_count": 5,
   "metadata": {},
   "outputs": [
    {
     "name": "stdout",
     "output_type": "stream",
     "text": [
      "INFO:tensorflow:Restoring parameters from models/my-model\n",
      "test accuracy0.87\n"
     ]
    }
   ],
   "source": [
    "with tf.Session() as sess:\n",
    "    # 変数初期化\n",
    "    sess.run(tf.global_variables_initializer())\n",
    "\n",
    "    # モデル読み込み\n",
    "    saver.restore(sess, 'models/my-model')\n",
    "\n",
    "    # テストデータによる精度検証\n",
    "    test_accuracy = accuracy.eval(feed_dict={x : mnist.test.images,\\\n",
    "        labels : mnist.test.labels, p_1 : 1.0, p_2 : 1.0})\n",
    "    print('test accuracy{:.2f}'.format(test_accuracy))"
   ]
  }
 ],
 "metadata": {
  "interpreter": {
   "hash": "a1c8c699d14e3903dc5150bb4eeb93a885371f7e5db0b28d0ec5cc4eff72bd11"
  },
  "kernelspec": {
   "display_name": "Python 3.6.13 64-bit ('introtensorflow': conda)",
   "language": "python",
   "name": "python3"
  },
  "language_info": {
   "codemirror_mode": {
    "name": "ipython",
    "version": 3
   },
   "file_extension": ".py",
   "mimetype": "text/x-python",
   "name": "python",
   "nbconvert_exporter": "python",
   "pygments_lexer": "ipython3",
   "version": "3.6.13"
  },
  "orig_nbformat": 4
 },
 "nbformat": 4,
 "nbformat_minor": 2
}
