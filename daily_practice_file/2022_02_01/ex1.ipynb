{
 "cells": [
  {
   "cell_type": "code",
   "execution_count": 2,
   "metadata": {},
   "outputs": [],
   "source": [
    "import tensorflow as tf"
   ]
  },
  {
   "cell_type": "code",
   "execution_count": 3,
   "metadata": {},
   "outputs": [
    {
     "name": "stdout",
     "output_type": "stream",
     "text": [
      "1.0\n"
     ]
    }
   ],
   "source": [
    "x = tf.constant(1.0)\n",
    "with tf.Session():\n",
    "    print(x.eval())"
   ]
  },
  {
   "cell_type": "code",
   "execution_count": 4,
   "metadata": {},
   "outputs": [
    {
     "name": "stdout",
     "output_type": "stream",
     "text": [
      "3.0\n"
     ]
    }
   ],
   "source": [
    "a = tf.constant(2.0)\n",
    "b = tf.constant(1.5)\n",
    "mul = tf.multiply(a,b)\n",
    "with tf.Session():\n",
    "    print(mul.eval())"
   ]
  },
  {
   "cell_type": "code",
   "execution_count": 5,
   "metadata": {},
   "outputs": [
    {
     "name": "stdout",
     "output_type": "stream",
     "text": [
      "a+b= 2\n"
     ]
    }
   ],
   "source": [
    "a = tf.placeholder(dtype=tf.int32)\n",
    "b = tf.constant(1, name='b')\n",
    "c = a + b\n",
    "with tf.Session() as sess:\n",
    "    print(\"a+b=\", sess.run(c, feed_dict={a:1}))"
   ]
  },
  {
   "cell_type": "code",
   "execution_count": 6,
   "metadata": {},
   "outputs": [
    {
     "name": "stdout",
     "output_type": "stream",
     "text": [
      "[4, 4]\n"
     ]
    }
   ],
   "source": [
    "a = tf.Variable(3)\n",
    "b = tf.constant(1)\n",
    "c = tf.assign(a, a+b)\n",
    "with tf.Session() as sess:\n",
    "    sess.run(tf.global_variables_initializer())\n",
    "    print(sess.run([c,a]))"
   ]
  },
  {
   "cell_type": "code",
   "execution_count": 8,
   "metadata": {},
   "outputs": [
    {
     "name": "stdout",
     "output_type": "stream",
     "text": [
      "[[1 2]\n",
      " [3 4]]\n"
     ]
    }
   ],
   "source": [
    "a = tf.constant([[1,2], [3,4]])\n",
    "with tf.Session() as sess:\n",
    "    print(sess.run(a))"
   ]
  }
 ],
 "metadata": {
  "interpreter": {
   "hash": "bc9affc091e2344714e05285d3e6d60d84eece41dfb51424ee2e30f8b58d5652"
  },
  "kernelspec": {
   "display_name": "Python 3.9.7 64-bit ('base': conda)",
   "language": "python",
   "name": "python3"
  },
  "language_info": {
   "codemirror_mode": {
    "name": "ipython",
    "version": 3
   },
   "file_extension": ".py",
   "mimetype": "text/x-python",
   "name": "python",
   "nbconvert_exporter": "python",
   "pygments_lexer": "ipython3",
   "version": "3.6.13"
  },
  "orig_nbformat": 4
 },
 "nbformat": 4,
 "nbformat_minor": 2
}
