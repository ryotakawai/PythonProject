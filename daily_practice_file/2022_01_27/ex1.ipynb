{
 "cells": [
  {
   "cell_type": "code",
   "execution_count": 22,
   "metadata": {},
   "outputs": [
    {
     "name": "stdout",
     "output_type": "stream",
     "text": [
      "こんにちは、野口さん。明日は8時に横浜市みなとみらいで待ってるよ！\n",
      "こんにちは、白石さん。明日は10時に東京都港区三田で待ってるよ！\n",
      "こんにちは、浦川さん。明日は14時に長崎県長崎市で待ってるよ！\n",
      "こんにちは、影平さん。明日は17時に福岡市博多で待ってるよ！\n",
      "こんにちは、矢野さん。明日は21時に鹿児島県川内市で待ってるよ！\n"
     ]
    }
   ],
   "source": [
    "s = \"こんにちは、{2}さん。明日は{0}時に{1}で待ってるよ！\"\n",
    "text1 = s.format(8, \"横浜市みなとみらい\", \"野口\")\n",
    "text2 = s.format(10, \"東京都港区三田\", \"白石\")\n",
    "text3 = s.format(14, \"長崎県長崎市\", \"浦川\")\n",
    "text4 = s.format(17, \"福岡市博多\", \"影平\")\n",
    "text5 = s.format(21, \"鹿児島県川内市\", \"矢野\")\n",
    "print(text1)\n",
    "print(text2)\n",
    "print(text3)\n",
    "print(text4)\n",
    "print(text5)"
   ]
  },
  {
   "cell_type": "code",
   "execution_count": 9,
   "metadata": {},
   "outputs": [
    {
     "name": "stdout",
     "output_type": "stream",
     "text": [
      "東京123,456,789\n"
     ]
    }
   ],
   "source": [
    "tokyo = 123456789\n",
    "print(f\"東京{tokyo:,}\")"
   ]
  },
  {
   "cell_type": "code",
   "execution_count": 19,
   "metadata": {},
   "outputs": [
    {
     "name": "stdout",
     "output_type": "stream",
     "text": [
      "長さ25.3cm、厚み1,845.63mm、数135個\n"
     ]
    }
   ],
   "source": [
    "length = 25.34; thickness = 1845.627; num = 135.03\n",
    "text = f\"長さ{length:.1f}cm、厚み{thickness:,.2f}mm、数{num:.0f}個\"\n",
    "print(text)"
   ]
  },
  {
   "cell_type": "code",
   "execution_count": 20,
   "metadata": {},
   "outputs": [
    {
     "name": "stdout",
     "output_type": "stream",
     "text": [
      "     123.4\n",
      "123.4     \n",
      "  123.4   \n"
     ]
    }
   ],
   "source": [
    "num1 = 123.4\n",
    "num2 = 56.9\n",
    "num3 = 3040.1\n",
    "\n",
    "print(f\"{num1:>10.1f}\")\n",
    "print(f\"{num1:<10.1f}\")\n",
    "print(f\"{num1:^10.1f}\")"
   ]
  }
 ],
 "metadata": {
  "interpreter": {
   "hash": "bc9affc091e2344714e05285d3e6d60d84eece41dfb51424ee2e30f8b58d5652"
  },
  "kernelspec": {
   "display_name": "Python 3.9.7 64-bit ('base': conda)",
   "language": "python",
   "name": "python3"
  },
  "language_info": {
   "codemirror_mode": {
    "name": "ipython",
    "version": 3
   },
   "file_extension": ".py",
   "mimetype": "text/x-python",
   "name": "python",
   "nbconvert_exporter": "python",
   "pygments_lexer": "ipython3",
   "version": "3.9.7"
  },
  "orig_nbformat": 4
 },
 "nbformat": 4,
 "nbformat_minor": 2
}
