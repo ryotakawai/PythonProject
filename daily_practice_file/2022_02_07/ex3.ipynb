{
 "cells": [
  {
   "cell_type": "code",
   "execution_count": 19,
   "metadata": {},
   "outputs": [],
   "source": [
    "file = \"./data/sample.txt\""
   ]
  },
  {
   "cell_type": "code",
   "execution_count": 20,
   "metadata": {},
   "outputs": [],
   "source": [
    "with open(file, \"w\", encoding=\"utf_8\", newline=\"\") as fileobj:\n",
    "    fileobj.write(\"こんにちは\\n\")\n",
    "    fileobj.write(\"田中さん\\n\")"
   ]
  },
  {
   "cell_type": "code",
   "execution_count": 21,
   "metadata": {},
   "outputs": [],
   "source": [
    "import sys\n",
    "from datetime import datetime\n",
    "file = \"./data/log.txt\""
   ]
  },
  {
   "cell_type": "code",
   "execution_count": 25,
   "metadata": {},
   "outputs": [],
   "source": [
    "now = str(datetime.now())\n",
    "memo = \"はじめての投稿\"\n",
    "line = \"-\" * 10\n",
    "\n",
    "with open(file, \"a\", encoding=\"utf_8\") as fileobj:\n",
    "    fileobj.write(\"\\n\")\n",
    "    fileobj.write(now + \"\\n\")\n",
    "    fileobj.write(memo + \"\\n\")\n",
    "    fileobj.write(line + \"\\n\")"
   ]
  }
 ],
 "metadata": {
  "interpreter": {
   "hash": "bc9affc091e2344714e05285d3e6d60d84eece41dfb51424ee2e30f8b58d5652"
  },
  "kernelspec": {
   "display_name": "Python 3.9.7 ('base')",
   "language": "python",
   "name": "python3"
  },
  "language_info": {
   "codemirror_mode": {
    "name": "ipython",
    "version": 3
   },
   "file_extension": ".py",
   "mimetype": "text/x-python",
   "name": "python",
   "nbconvert_exporter": "python",
   "pygments_lexer": "ipython3",
   "version": "3.9.7"
  },
  "orig_nbformat": 4
 },
 "nbformat": 4,
 "nbformat_minor": 2
}
