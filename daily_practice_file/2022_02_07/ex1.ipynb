{
 "cells": [
  {
   "cell_type": "code",
   "execution_count": 1,
   "metadata": {},
   "outputs": [
    {
     "name": "stdout",
     "output_type": "stream",
     "text": [
      "The quick brown fox jumps over the lazy dog.\n",
      "I felt so excited.\n",
      "It's very big experience!!\n"
     ]
    }
   ],
   "source": [
    "file = \"./data/fox.txt\"\n",
    "fileobj = open(file)\n",
    "text = fileobj.read()\n",
    "fileobj.close()\n",
    "print(text)"
   ]
  },
  {
   "cell_type": "code",
   "execution_count": 2,
   "metadata": {},
   "outputs": [
    {
     "name": "stdout",
     "output_type": "stream",
     "text": [
      "The quick brown fox \n",
      "jumps over the lazy \n",
      "dog.\n",
      "I felt so excit\n",
      "ed.\n",
      "It's very big ex\n",
      "perience!!\n"
     ]
    }
   ],
   "source": [
    "with open(file, \"r\", encoding=\"utf-8\") as fileobj:\n",
    "    while True:\n",
    "        text = fileobj.read(20)\n",
    "        if text:\n",
    "            print(text)\n",
    "        else:\n",
    "            break"
   ]
  },
  {
   "cell_type": "code",
   "execution_count": 3,
   "metadata": {},
   "outputs": [
    {
     "name": "stdout",
     "output_type": "stream",
     "text": [
      "I felt so excited.\n",
      " "
     ]
    }
   ],
   "source": [
    "target = \"so\"\n",
    "with open(file, \"r\", encoding=\"utf-8\") as fileobj:\n",
    "    while True:\n",
    "        try:\n",
    "            line = next(fileobj)\n",
    "            if line.find(target) >= 0:\n",
    "                print(line, end=\" \")\n",
    "                break\n",
    "        except StopIteration:\n",
    "            print(f\"「{target}」は見つかりませんでした\")\n",
    "            break"
   ]
  }
 ],
 "metadata": {
  "interpreter": {
   "hash": "bc9affc091e2344714e05285d3e6d60d84eece41dfb51424ee2e30f8b58d5652"
  },
  "kernelspec": {
   "display_name": "Python 3.9.7 ('base')",
   "language": "python",
   "name": "python3"
  },
  "language_info": {
   "codemirror_mode": {
    "name": "ipython",
    "version": 3
   },
   "file_extension": ".py",
   "mimetype": "text/x-python",
   "name": "python",
   "nbconvert_exporter": "python",
   "pygments_lexer": "ipython3",
   "version": "3.9.7"
  },
  "orig_nbformat": 4
 },
 "nbformat": 4,
 "nbformat_minor": 2
}
